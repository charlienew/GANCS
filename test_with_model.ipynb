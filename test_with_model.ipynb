{
 "cells": [
  {
   "cell_type": "code",
   "execution_count": 1,
   "metadata": {},
   "outputs": [],
   "source": [
    "import numpy as np\n",
    "import tensorflow as tf\n",
    "import srez_model as sm\n",
    "import matplotlib.pyplot as plt\n",
    "%matplotlib inline"
   ]
  },
  {
   "cell_type": "code",
   "execution_count": 2,
   "metadata": {},
   "outputs": [],
   "source": [
    "X = tf.placeholder(tf.float32, [100, 28, 28, 1], \"input\")\n",
    "Y_ = tf.placeholder(tf.float32, [100, 10], \"true_lable\")\n",
    "model1 = sm.Model('cnn-1', X)"
   ]
  },
  {
   "cell_type": "code",
   "execution_count": 3,
   "metadata": {},
   "outputs": [
    {
     "data": {
      "text/plain": [
       "<tf.Tensor 'input:0' shape=(100, 28, 28, 1) dtype=float32>"
      ]
     },
     "execution_count": 3,
     "metadata": {},
     "output_type": "execute_result"
    }
   ],
   "source": [
    "model1.get_output()"
   ]
  },
  {
   "cell_type": "code",
   "execution_count": 4,
   "metadata": {},
   "outputs": [
    {
     "name": "stdout",
     "output_type": "stream",
     "text": [
      "WARNING:tensorflow:From /home/charlieniu21/anaconda3/lib/python3.6/site-packages/tensorflow/python/framework/op_def_library.py:263: colocate_with (from tensorflow.python.framework.ops) is deprecated and will be removed in a future version.\n",
      "Instructions for updating:\n",
      "Colocations handled automatically by placer.\n"
     ]
    },
    {
     "data": {
      "text/plain": [
       "<tf.Tensor 'cnn-1_L003/Relu:0' shape=(100, 28, 28, 4) dtype=float32>"
      ]
     },
     "execution_count": 4,
     "metadata": {},
     "output_type": "execute_result"
    }
   ],
   "source": [
    "model1 = model1.add_conv2d(4, mapsize = 5, stddev_factor = 2.0)\n",
    "model1 = model1.add_relu()\n",
    "model1.get_output()"
   ]
  },
  {
   "cell_type": "code",
   "execution_count": 5,
   "metadata": {},
   "outputs": [
    {
     "data": {
      "text/plain": [
       "<tf.Tensor 'cnn-1_L005/Relu:0' shape=(100, 14, 14, 8) dtype=float32>"
      ]
     },
     "execution_count": 5,
     "metadata": {},
     "output_type": "execute_result"
    }
   ],
   "source": [
    "model1 = model1.add_conv2d(8, mapsize = 5, stride = 2, stddev_factor = 2.0)\n",
    "model1 = model1.add_relu()\n",
    "model1.get_output()"
   ]
  },
  {
   "cell_type": "code",
   "execution_count": 6,
   "metadata": {},
   "outputs": [
    {
     "data": {
      "text/plain": [
       "<tf.Tensor 'cnn-1_L007/Relu:0' shape=(100, 7, 7, 12) dtype=float32>"
      ]
     },
     "execution_count": 6,
     "metadata": {},
     "output_type": "execute_result"
    }
   ],
   "source": [
    "model1 = model1.add_conv2d(12, mapsize = 4, stride = 2, stddev_factor = 2.0)\n",
    "model1 = model1.add_relu()\n",
    "model1.get_output()"
   ]
  },
  {
   "cell_type": "code",
   "execution_count": 7,
   "metadata": {},
   "outputs": [
    {
     "data": {
      "text/plain": [
       "<tf.Tensor 'cnn-1_L010/Relu:0' shape=(100, 200) dtype=float32>"
      ]
     },
     "execution_count": 7,
     "metadata": {},
     "output_type": "execute_result"
    }
   ],
   "source": [
    "model1 = model1.add_flatten()\n",
    "model1 = model1.add_dense(200, stddev_factor = 2.0)\n",
    "model1 = model1.add_relu()\n",
    "model1.get_output()"
   ]
  },
  {
   "cell_type": "code",
   "execution_count": 8,
   "metadata": {},
   "outputs": [
    {
     "data": {
      "text/plain": [
       "<tf.Tensor 'cnn-1_L011/add:0' shape=(100, 10) dtype=float32>"
      ]
     },
     "execution_count": 8,
     "metadata": {},
     "output_type": "execute_result"
    }
   ],
   "source": [
    "model1 = model1.add_dense(10)\n",
    "model1.get_output()"
   ]
  },
  {
   "cell_type": "code",
   "execution_count": 9,
   "metadata": {},
   "outputs": [],
   "source": [
    "Ylogits = model1.get_output()\n",
    "Y = tf.nn.softmax(Ylogits)\n",
    "cross_entropy = tf.nn.softmax_cross_entropy_with_logits_v2(logits=Ylogits, labels=Y_)\n",
    "cross_entropy = tf.reduce_mean(cross_entropy)*100\n",
    "\n",
    "correct_prediction = tf.equal(tf.argmax(Y, 1), tf.argmax(Y_, 1))\n",
    "accuracy = tf.reduce_mean(tf.cast(correct_prediction, tf.float32))"
   ]
  },
  {
   "cell_type": "code",
   "execution_count": 10,
   "metadata": {},
   "outputs": [
    {
     "data": {
      "text/plain": [
       "[<tf.Variable 'cnn-1_L002/weight:0' shape=(5, 5, 1, 4) dtype=float32_ref>,\n",
       " <tf.Variable 'cnn-1_L002/bias:0' shape=(4,) dtype=float32_ref>,\n",
       " <tf.Variable 'cnn-1_L004/weight:0' shape=(5, 5, 4, 8) dtype=float32_ref>,\n",
       " <tf.Variable 'cnn-1_L004/bias:0' shape=(8,) dtype=float32_ref>,\n",
       " <tf.Variable 'cnn-1_L006/weight:0' shape=(4, 4, 8, 12) dtype=float32_ref>,\n",
       " <tf.Variable 'cnn-1_L006/bias:0' shape=(12,) dtype=float32_ref>,\n",
       " <tf.Variable 'cnn-1_L009/weight:0' shape=(588, 200) dtype=float32_ref>,\n",
       " <tf.Variable 'cnn-1_L009/bias:0' shape=(200,) dtype=float32_ref>,\n",
       " <tf.Variable 'cnn-1_L011/weight:0' shape=(200, 10) dtype=float32_ref>,\n",
       " <tf.Variable 'cnn-1_L011/bias:0' shape=(10,) dtype=float32_ref>]"
      ]
     },
     "execution_count": 10,
     "metadata": {},
     "output_type": "execute_result"
    }
   ],
   "source": [
    "tf.global_variables()"
   ]
  },
  {
   "cell_type": "code",
   "execution_count": 11,
   "metadata": {},
   "outputs": [],
   "source": [
    "((train_data, train_labels),\n",
    " (eval_data, eval_labels)) = tf.keras.datasets.mnist.load_data()\n",
    "\n",
    "\n",
    "train_data = train_data/np.float32(255)\n",
    "train_labels = train_labels.astype(np.int32)  # not required\n",
    "\n",
    "eval_data = eval_data/np.float32(255)\n",
    "eval_labels = eval_labels.astype(np.int32)  # not required"
   ]
  },
  {
   "cell_type": "code",
   "execution_count": 12,
   "metadata": {},
   "outputs": [],
   "source": [
    "def get_batch(size):\n",
    "    batch_loc = np.random.randint(60000, size=size)\n",
    "    train_bat_lab = np.zeros((size,10))\n",
    "    train_bat_lab[np.arange(size), train_labels[batch_loc]] = 1\n",
    "    train_bat_im = train_data[batch_loc]\n",
    "    return np.reshape(train_bat_im,[size, 28, 28, 1]), train_bat_lab"
   ]
  },
  {
   "cell_type": "code",
   "execution_count": 13,
   "metadata": {},
   "outputs": [],
   "source": [
    "import math\n",
    "step = tf.placeholder(tf.int32,name= \"step\")\n",
    "lr = 0.0001 +  tf.train.exponential_decay(0.003, step, 2000, 1/math.e)\n",
    "train_step = tf.train.AdamOptimizer(lr).minimize(cross_entropy)"
   ]
  },
  {
   "cell_type": "code",
   "execution_count": 14,
   "metadata": {},
   "outputs": [],
   "source": [
    "init = tf.global_variables_initializer()\n",
    "sess = tf.Session()\n",
    "writer = tf.summary.FileWriter(\"logs/\", sess.graph)\n",
    "sess.run(init)"
   ]
  },
  {
   "cell_type": "code",
   "execution_count": 15,
   "metadata": {},
   "outputs": [],
   "source": [
    "import time\n",
    "def train_process(epochs, batch_size):\n",
    "    start_time = time.time()\n",
    "    train_log = []\n",
    "    train_time = 0\n",
    "    while train_time<epochs:\n",
    "        batch_X, batch_Y = get_batch(batch_size)\n",
    "        a = sess.run(accuracy, feed_dict = {X:batch_X, Y_:batch_Y, step: train_time})\n",
    "        train_log.append(a)\n",
    "        #print(\"epoch: \"+str(train_time)+\", accuracy: \"+str(a))\n",
    "        train_time+=1\n",
    "        sess.run(train_step, feed_dict={X:batch_X, Y_:batch_Y, step: train_time})\n",
    "    plt.figure(figsize = (16, 10))\n",
    "    plt.plot(train_log)\n",
    "    plt.title(\"Training Accuracy\")\n",
    "    plt.show()\n",
    "    print(\"training time:\"+ str(time.time() - start_time)+\" seconds\")\n",
    "    return train_log"
   ]
  },
  {
   "cell_type": "code",
   "execution_count": 16,
   "metadata": {},
   "outputs": [
    {
     "data": {
      "image/png": "[encoded data removed]",
      "text/plain": [
       "<Figure size 1152x720 with 1 Axes>"
      ]
     },
     "metadata": {
      "needs_background": "light"
     },
     "output_type": "display_data"
    },
    {
     "name": "stdout",
     "output_type": "stream",
     "text": [
      "training time:25.914833784103394 seconds\n"
     ]
    }
   ],
   "source": [
    "train_log = train_process(500, 100)"
   ]
  },
  {
   "cell_type": "code",
   "execution_count": 17,
   "metadata": {},
   "outputs": [
    {
     "name": "stdout",
     "output_type": "stream",
     "text": [
      "1.0\n"
     ]
    }
   ],
   "source": [
    "eval_lab = np.zeros((100,10))\n",
    "eval_lab[np.arange(100),eval_labels[:100]] = 1\n",
    "eval_im = np.reshape(eval_data[:100][:][:][:], [100, 28, 28 ,1])\n",
    "print(sess.run(accuracy, feed_dict = {X:eval_im, Y_:eval_lab}))"
   ]
  },
  {
   "cell_type": "code",
   "execution_count": null,
   "metadata": {},
   "outputs": [],
   "source": []
  },
  {
   "cell_type": "code",
   "execution_count": null,
   "metadata": {},
   "outputs": [],
   "source": []
  },
  {
   "cell_type": "code",
   "execution_count": null,
   "metadata": {},
   "outputs": [],
   "source": []
  }
 ],
 "metadata": {
  "kernelspec": {
   "display_name": "Python 3",
   "language": "python",
   "name": "python3"
  },
  "language_info": {
   "codemirror_mode": {
    "name": "ipython",
    "version": 3
   },
   "file_extension": ".py",
   "mimetype": "text/x-python",
   "name": "python",
   "nbconvert_exporter": "python",
   "pygments_lexer": "ipython3",
   "version": "3.6.8"
  }
 },
 "nbformat": 4,
 "nbformat_minor": 2
}
