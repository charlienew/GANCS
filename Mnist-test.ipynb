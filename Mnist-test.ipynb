{
 "cells": [
  {
   "cell_type": "code",
   "execution_count": 1,
   "metadata": {},
   "outputs": [],
   "source": [
    "import tensorflow as tf\n",
    "import ori_model as tm\n",
    "import numpy as np\n",
    "import math \n",
    "import matplotlib.pyplot as plt\n",
    "%matplotlib inline"
   ]
  },
  {
   "cell_type": "code",
   "execution_count": 2,
   "metadata": {},
   "outputs": [
    {
     "name": "stdout",
     "output_type": "stream",
     "text": [
      "1.10.0\n"
     ]
    }
   ],
   "source": [
    "print(tf.VERSION) # seems to work fine with tf version 1.10, but failed with tf 1.13"
   ]
  },
  {
   "cell_type": "markdown",
   "metadata": {},
   "source": [
    "preparing mask"
   ]
  },
  {
   "cell_type": "code",
   "execution_count": 3,
   "metadata": {},
   "outputs": [
    {
     "name": "stdout",
     "output_type": "stream",
     "text": [
      "gen mask for R-factor=3.5000\n",
      "3.5 (array([ 0,  1,  2,  3,  4,  5,  6,  7,  8,  9, 10, 11, 12, 13, 14, 15, 16,\n",
      "       17, 18, 19, 20, 21, 22, 23, 24, 25, 26, 27]),)\n"
     ]
    }
   ],
   "source": [
    "def getMask(size=[128,128], porder = 5.0, bias = 0.1, acs = 3, seed = 0, axis_undersample=1, mute=0):\n",
    "    # init\n",
    "    mask = np.zeros(size)\n",
    "    np.random.seed(seed)\n",
    "    # gen random mask\n",
    "    for i in range(size[1]):\n",
    "        x = (i-size[1]/2.0)/(size[1]/2.0)\n",
    "        p = np.random.rand() \n",
    "        if p <= abs(x)**porder + bias:\n",
    "            if axis_undersample == 0:\n",
    "                mask[i][:]=1\n",
    "            else:\n",
    "                mask[:][i]=1\n",
    "    # acs                \n",
    "    if axis_undersample == 0:\n",
    "        mask[:int((acs+1)/2)][:]=1\n",
    "        mask[-int(acs/2):][:]=1\n",
    "    else:\n",
    "        mask[:][:int((acs+1)/2)]=1\n",
    "        mask[:][-int(acs/2):]=1\n",
    "\n",
    "    # compute reduction\n",
    "    r_factor = len(mask.flatten())/sum(mask.flatten())\n",
    "    if not mute:\n",
    "        print('gen mask for R-factor={0:.4f}'.format(r_factor))\n",
    "\n",
    "    # use tf\n",
    "    return mask, r_factor\n",
    "\n",
    "mask, r_factor = getMask(size=[28,28], porder=5, acs = 3)\n",
    "print(r_factor, np.where(mask[0,:]))"
   ]
  },
  {
   "cell_type": "code",
   "execution_count": 4,
   "metadata": {},
   "outputs": [
    {
     "data": {
      "text/plain": [
       "<matplotlib.image.AxesImage at 0x7f0826ef45f8>"
      ]
     },
     "execution_count": 4,
     "metadata": {},
     "output_type": "execute_result"
    },
    {
     "data": {
      "image/png": "[encoded data removed]",
      "text/plain": [
       "<Figure size 432x288 with 1 Axes>"
      ]
     },
     "metadata": {
      "needs_background": "light"
     },
     "output_type": "display_data"
    }
   ],
   "source": [
    "plt.imshow(mask, cmap = \"gray\")"
   ]
  },
  {
   "cell_type": "markdown",
   "metadata": {},
   "source": [
    "get training data--mnist dataset"
   ]
  },
  {
   "cell_type": "code",
   "execution_count": 5,
   "metadata": {},
   "outputs": [],
   "source": [
    "((train_data, train_labels),\n",
    " (eval_data, eval_labels)) = tf.keras.datasets.mnist.load_data()\n",
    "train_data = train_data/np.float32(255)\n",
    "eval_data = eval_data/np.float32(255)\n",
    "mask = np.reshape(mask, [1, 28, 28])"
   ]
  },
  {
   "cell_type": "code",
   "execution_count": 6,
   "metadata": {},
   "outputs": [],
   "source": [
    "def get_batch(size = 100):\n",
    "    np.random.seed()\n",
    "    batch_loc = np.random.randint(60000, size=size)\n",
    "    train_bat_im = train_data[batch_loc]\n",
    "    return np.reshape(train_bat_im,[size, 28, 28, 1])\n",
    "\n",
    "def get_masked(data, mask):\n",
    "    d_complex = tf.reshape(tf.cast(data, tf.complex64),\n",
    "                           [data.shape[0], 28, 28])\n",
    "    mask_complex = tf.cast(mask, tf.complex64)\n",
    "    d_kspace = tf.fft2d(d_complex)*mask_complex\n",
    "    d_masked_complex = tf.ifft2d(d_kspace)\n",
    "    d_masked_real = tf.reshape(tf.real(d_masked_complex), \n",
    "                               [d_masked_complex.get_shape()[0], 28, 28, 1])\n",
    "    d_masked_imag = tf.reshape(tf.imag(d_masked_complex), \n",
    "                               [d_masked_complex.get_shape()[0], 28, 28, 1])\n",
    "    d_masked = tf.concat([d_masked_real, d_masked_imag], axis = 3)\n",
    "    with tf.Session() as sess:\n",
    "        masked = sess.run(d_masked)\n",
    "    return masked"
   ]
  },
  {
   "cell_type": "code",
   "execution_count": 7,
   "metadata": {},
   "outputs": [],
   "source": [
    "batch = get_batch()\n",
    "masked = get_masked(batch, mask)"
   ]
  },
  {
   "cell_type": "code",
   "execution_count": 8,
   "metadata": {},
   "outputs": [],
   "source": [
    "m1 = tf.cast(masked[15][:][:][:], tf.complex64)\n",
    "re = m1[:,:,0]+1j*m1[:,:,1]\n",
    "r = tf.abs(re)\n",
    "r = tf.reshape(r, [28, 28])"
   ]
  },
  {
   "cell_type": "code",
   "execution_count": 9,
   "metadata": {},
   "outputs": [],
   "source": [
    "with tf.Session() as sess:\n",
    "    o1 = sess.run(r)"
   ]
  },
  {
   "cell_type": "code",
   "execution_count": 10,
   "metadata": {},
   "outputs": [
    {
     "data": {
      "text/plain": [
       "<matplotlib.image.AxesImage at 0x7f0823e7c1d0>"
      ]
     },
     "execution_count": 10,
     "metadata": {},
     "output_type": "execute_result"
    },
    {
     "data": {
      "image/png": "[encoded data removed]",
      "text/plain": [
       "<Figure size 432x288 with 1 Axes>"
      ]
     },
     "metadata": {
      "needs_background": "light"
     },
     "output_type": "display_data"
    }
   ],
   "source": [
    "plt.imshow(o1, cmap = \"gray\")"
   ]
  },
  {
   "cell_type": "code",
   "execution_count": 11,
   "metadata": {},
   "outputs": [
    {
     "data": {
      "text/plain": [
       "<matplotlib.image.AxesImage at 0x7f0823ddc6a0>"
      ]
     },
     "execution_count": 11,
     "metadata": {},
     "output_type": "execute_result"
    },
    {
     "data": {
      "image/png": "[encoded data removed]",
      "text/plain": [
       "<Figure size 432x288 with 1 Axes>"
      ]
     },
     "metadata": {
      "needs_background": "light"
     },
     "output_type": "display_data"
    }
   ],
   "source": [
    "r1 = np.reshape(batch[15,:,:,:], [28, 28])\n",
    "plt.imshow(r1, cmap = \"gray\")"
   ]
  },
  {
   "cell_type": "markdown",
   "metadata": {},
   "source": [
    "preparing model structure"
   ]
  },
  {
   "cell_type": "code",
   "execution_count": 12,
   "metadata": {},
   "outputs": [],
   "source": [
    "batchsize = 100 # change it along with test_model.py\n",
    "model_input_masked = tf.placeholder(tf.float32, [batchsize, 28, 28, 2], \n",
    "                                    \"masked\")\n",
    "model_input_gtrue = tf.placeholder(tf.float32, [batchsize, 28, 28, 1], \n",
    "                                   \"ground_truth\")\n"
   ]
  },
  {
   "cell_type": "code",
   "execution_count": 13,
   "metadata": {},
   "outputs": [
    {
     "name": "stdout",
     "output_type": "stream",
     "text": [
      "use resnet without pooling: [64, 64, 64]\n",
      "using Fourier, input dim (100, 28, 28, 2), output dim (100, 28, 28)\n",
      "using Fourier, input dim (100, 28, 28, 2), output dim (100, 28, 28)\n",
      "use resnet without pooling: [64, 64, 64]\n",
      "using Fourier, input dim (100, 28, 28, 2), output dim (100, 28, 28)\n",
      "using Fourier, input dim (100, 28, 28, 2), output dim (100, 28, 28)\n",
      "use resnet without pooling: [64, 64, 64]\n",
      "using Fourier, input dim (100, 28, 28, 2), output dim (100, 28, 28)\n",
      "using Fourier, input dim (100, 28, 28, 2), output dim (100, 28, 28)\n",
      "use resnet without pooling: [64, 64, 64]\n",
      "using Fourier, input dim (100, 28, 28, 2), output dim (100, 28, 28)\n",
      "using Fourier, input dim (100, 28, 28, 2), output dim (100, 28, 28)\n",
      "use resnet without pooling: [64, 64, 64]\n",
      "using Fourier, input dim (100, 28, 28, 2), output dim (100, 28, 28)\n",
      "using Fourier, input dim (100, 28, 28, 2), output dim (100, 28, 28)\n",
      "use resnet without pooling: [64, 64, 64]\n",
      "using Fourier, input dim (100, 28, 28, 2), output dim (100, 28, 28)\n",
      "using Fourier, input dim (100, 28, 28, 2), output dim (100, 28, 28)\n",
      "use resnet without pooling: [64, 64, 64]\n",
      "using Fourier, input dim (100, 28, 28, 2), output dim (100, 28, 28)\n",
      "using Fourier, input dim (100, 28, 28, 2), output dim (100, 28, 28)\n",
      "use resnet without pooling: [64, 64, 64]\n",
      "using Fourier, input dim (100, 28, 28, 2), output dim (100, 28, 28)\n",
      "using Fourier, input dim (100, 28, 28, 2), output dim (100, 28, 28)\n",
      "use resnet without pooling: [64, 64, 64]\n",
      "using Fourier, input dim (100, 28, 28, 2), output dim (100, 28, 28)\n",
      "using Fourier, input dim (100, 28, 28, 2), output dim (100, 28, 28)\n",
      "use resnet without pooling: [64, 64, 64]\n",
      "using Fourier, input dim (100, 28, 28, 2), output dim (100, 28, 28)\n",
      "using Fourier, input dim (100, 28, 28, 2), output dim (100, 28, 28)\n",
      "use resnet without pooling: [64, 64, 64]\n",
      "using Fourier, input dim (100, 28, 28, 2), output dim (100, 28, 28)\n",
      "using Fourier, input dim (100, 28, 28, 2), output dim (100, 28, 28)\n",
      "use resnet without pooling: [64, 64, 64]\n",
      "using Fourier, input dim (100, 28, 28, 2), output dim (100, 28, 28)\n",
      "using Fourier, input dim (100, 28, 28, 2), output dim (100, 28, 28)\n",
      "use resnet without pooling: [64, 64, 64]\n",
      "using Fourier, input dim (100, 28, 28, 2), output dim (100, 28, 28)\n",
      "using Fourier, input dim (100, 28, 28, 2), output dim (100, 28, 28)\n",
      "use resnet without pooling: [64, 64, 64]\n",
      "using Fourier, input dim (100, 28, 28, 2), output dim (100, 28, 28)\n",
      "using Fourier, input dim (100, 28, 28, 2), output dim (100, 28, 28)\n",
      "use resnet without pooling: [64, 64, 64]\n",
      "using Fourier, input dim (100, 28, 28, 2), output dim (100, 28, 28)\n",
      "using Fourier, input dim (100, 28, 28, 2), output dim (100, 28, 28)\n",
      "use resnet without pooling: [64, 64, 64]\n",
      "using Fourier, input dim (100, 28, 28, 2), output dim (100, 28, 28)\n",
      "using Fourier, input dim (100, 28, 28, 2), output dim (100, 28, 28)\n",
      "use resnet without pooling: [64, 64, 64]\n",
      "using Fourier, input dim (100, 28, 28, 2), output dim (100, 28, 28)\n",
      "using Fourier, input dim (100, 28, 28, 2), output dim (100, 28, 28)\n",
      "use resnet without pooling: [64, 64, 64]\n",
      "using Fourier, input dim (100, 28, 28, 2), output dim (100, 28, 28)\n",
      "using Fourier, input dim (100, 28, 28, 2), output dim (100, 28, 28)\n",
      "use resnet without pooling: [64, 64, 64]\n",
      "using Fourier, input dim (100, 28, 28, 2), output dim (100, 28, 28)\n",
      "using Fourier, input dim (100, 28, 28, 2), output dim (100, 28, 28)\n",
      "use resnet without pooling: [64, 64, 64]\n",
      "using Fourier, input dim (100, 28, 28, 2), output dim (100, 28, 28)\n",
      "using Fourier, input dim (100, 28, 28, 2), output dim (100, 28, 28)\n",
      "using Fourier, input dim (100, 28, 28), output dim (100, 28, 28)\n",
      "using Fourier, input dim (100, 28, 28, 2), output dim (100, 28, 28)\n",
      "WARNING:tensorflow:From /home/charlieniu21/code/GANCS/ori_model.py:892: calling reduce_mean (from tensorflow.python.ops.math_ops) with keep_dims is deprecated and will be removed in a future version.\n",
      "Instructions for updating:\n",
      "keep_dims is deprecated, use keepdims instead\n"
     ]
    }
   ],
   "source": [
    "gene_output, gene_output_complex, gene_var_list, gene_layers, disc_real_output, disc_fake_output, disc_var_list, disc_layers = tm.create_model(model_input_masked, model_input_gtrue, mask)\n",
    "    \n",
    "    \n",
    "gene_loss, gene_dc_loss, gene_fool_loss, list_gene_lose, gene_mse_factor = tm.create_generator_loss(disc_fake_output, gene_output, gene_output_complex, model_input_masked, model_input_gtrue, mask)\n",
    "    \n",
    "    \n",
    "disc_loss = tm.create_discriminator_loss(disc_real_output, disc_fake_output)\n",
    "    \n",
    "global_step, learning_rate, gene_minimize, disc_minimize = tm.create_optimizers(gene_loss, gene_var_list,disc_loss, disc_var_list)\n",
    "    \n",
    "    "
   ]
  },
  {
   "cell_type": "code",
   "execution_count": 14,
   "metadata": {},
   "outputs": [],
   "source": [
    "import time\n",
    "\n",
    "def train_process(epochs = 20, batch_size = 100):\n",
    "    gene_train_log = []\n",
    "    disc_train_log = []\n",
    "    train_time = 0\n",
    "    while train_time<epochs:\n",
    "        start_time = time.time()\n",
    "        batch_true = get_batch(batch_size)\n",
    "        batch_masked = get_masked(batch_true, mask)\n",
    "        g_los, d_los, gf_los = sess.run([gene_loss, disc_loss, gene_fool_loss],feed_dict = {model_input_masked:batch_masked, model_input_gtrue:batch_true, learning_rate: 0.001})\n",
    "        #print('done with loss')\n",
    "        gene_train_log.append(g_los)\n",
    "        disc_train_log.append(d_los)\n",
    "        sess.run([gene_minimize,disc_minimize],feed_dict = {model_input_masked:batch_masked, model_input_gtrue:batch_true, learning_rate: 0.001})\n",
    "        print(\"epoch: \"+str(train_time)+\", g_loss: \"+str(g_los)+\", d_loss: \"+str(d_los)+\" gf_loss:\"+str(gf_los)+\" time_spent:\"+str(time.time()-start_time)+\"s\")\n",
    "        train_time += 1\n",
    "    return (gene_train_log, disc_train_log)"
   ]
  },
  {
   "cell_type": "code",
   "execution_count": 15,
   "metadata": {},
   "outputs": [],
   "source": [
    "sess = tf.Session()\n",
    "init = tf.global_variables_initializer()\n",
    "writer = tf.summary.FileWriter(\"logs/\", sess.graph)\n",
    "sess.run(init)"
   ]
  },
  {
   "cell_type": "code",
   "execution_count": 23,
   "metadata": {},
   "outputs": [
    {
     "name": "stdout",
     "output_type": "stream",
     "text": [
      "epoch: 0, g_loss: 0.22082338, d_loss: 0.45865512 gf_loss:0.51088333 time_spent:1.0008876323699951s\n",
      "epoch: 1, g_loss: 0.21583146, d_loss: 0.4568439 gf_loss:0.49487174 time_spent:0.9120278358459473s\n",
      "epoch: 2, g_loss: 0.21355906, d_loss: 0.45358762 gf_loss:0.48697805 time_spent:0.9547359943389893s\n",
      "epoch: 3, g_loss: 0.21561469, d_loss: 0.46502697 gf_loss:0.4910695 time_spent:1.030545949935913s\n",
      "epoch: 4, g_loss: 0.21797374, d_loss: 0.46111998 gf_loss:0.50070125 time_spent:1.0037891864776611s\n",
      "epoch: 5, g_loss: 0.21626596, d_loss: 0.45860374 gf_loss:0.493313 time_spent:1.0543434619903564s\n",
      "epoch: 6, g_loss: 0.22075163, d_loss: 0.45438278 gf_loss:0.50486624 time_spent:1.0510406494140625s\n",
      "epoch: 7, g_loss: 0.22123462, d_loss: 0.44916165 gf_loss:0.51282763 time_spent:1.0360116958618164s\n",
      "epoch: 8, g_loss: 0.22139665, d_loss: 0.45464998 gf_loss:0.5123655 time_spent:1.0326108932495117s\n",
      "epoch: 9, g_loss: 0.22093748, d_loss: 0.4507704 gf_loss:0.50970584 time_spent:0.9382834434509277s\n",
      "epoch: 10, g_loss: 0.21725512, d_loss: 0.45305526 gf_loss:0.5061363 time_spent:0.9380664825439453s\n",
      "epoch: 11, g_loss: 0.22012451, d_loss: 0.45220566 gf_loss:0.507693 time_spent:1.2596962451934814s\n",
      "epoch: 12, g_loss: 0.21291873, d_loss: 0.4544204 gf_loss:0.4892999 time_spent:1.067901372909546s\n",
      "epoch: 13, g_loss: 0.21964276, d_loss: 0.4543564 gf_loss:0.5086256 time_spent:1.0395605564117432s\n",
      "epoch: 14, g_loss: 0.21741499, d_loss: 0.453683 gf_loss:0.5010013 time_spent:1.068559169769287s\n",
      "epoch: 15, g_loss: 0.21549658, d_loss: 0.45408833 gf_loss:0.4949149 time_spent:0.9902627468109131s\n",
      "epoch: 16, g_loss: 0.21791205, d_loss: 0.4562077 gf_loss:0.50875837 time_spent:1.0939185619354248s\n",
      "epoch: 17, g_loss: 0.22155063, d_loss: 0.45670843 gf_loss:0.5135184 time_spent:1.054452657699585s\n",
      "epoch: 18, g_loss: 0.21755502, d_loss: 0.45721674 gf_loss:0.5005944 time_spent:1.0642619132995605s\n",
      "epoch: 19, g_loss: 0.21735524, d_loss: 0.4576276 gf_loss:0.5006138 time_spent:0.9966487884521484s\n",
      "epoch: 20, g_loss: 0.22139335, d_loss: 0.45382074 gf_loss:0.51554585 time_spent:1.0842349529266357s\n",
      "epoch: 21, g_loss: 0.21678077, d_loss: 0.4513207 gf_loss:0.5047185 time_spent:1.0886309146881104s\n",
      "epoch: 22, g_loss: 0.22600974, d_loss: 0.44756347 gf_loss:0.5282699 time_spent:1.0491368770599365s\n",
      "epoch: 23, g_loss: 0.21934214, d_loss: 0.4545485 gf_loss:0.5099092 time_spent:1.0836586952209473s\n",
      "epoch: 24, g_loss: 0.21821764, d_loss: 0.45063743 gf_loss:0.50516963 time_spent:0.9596385955810547s\n",
      "epoch: 25, g_loss: 0.21649191, d_loss: 0.45294946 gf_loss:0.4984817 time_spent:0.9610943794250488s\n",
      "epoch: 26, g_loss: 0.21499965, d_loss: 0.45057088 gf_loss:0.5010001 time_spent:1.097768783569336s\n",
      "epoch: 27, g_loss: 0.22260338, d_loss: 0.44922656 gf_loss:0.52210784 time_spent:0.9702467918395996s\n",
      "epoch: 28, g_loss: 0.2195826, d_loss: 0.45425302 gf_loss:0.51309144 time_spent:1.1112442016601562s\n",
      "epoch: 29, g_loss: 0.22603458, d_loss: 0.4510609 gf_loss:0.52585065 time_spent:1.1031930446624756s\n",
      "epoch: 30, g_loss: 0.22145721, d_loss: 0.447778 gf_loss:0.52256405 time_spent:1.0235862731933594s\n",
      "epoch: 31, g_loss: 0.21773736, d_loss: 0.45092648 gf_loss:0.5130184 time_spent:1.0112876892089844s\n",
      "epoch: 32, g_loss: 0.22384547, d_loss: 0.44666857 gf_loss:0.5247326 time_spent:1.0578510761260986s\n",
      "epoch: 33, g_loss: 0.21912985, d_loss: 0.450445 gf_loss:0.5107027 time_spent:1.1235072612762451s\n",
      "epoch: 34, g_loss: 0.21805389, d_loss: 0.44999975 gf_loss:0.5054066 time_spent:1.0298230648040771s\n",
      "epoch: 35, g_loss: 0.21592613, d_loss: 0.45278043 gf_loss:0.50458854 time_spent:1.129974365234375s\n",
      "epoch: 36, g_loss: 0.22123033, d_loss: 0.44524786 gf_loss:0.5161896 time_spent:1.1321425437927246s\n",
      "epoch: 37, g_loss: 0.2195669, d_loss: 0.4484105 gf_loss:0.5131112 time_spent:1.140089511871338s\n",
      "epoch: 38, g_loss: 0.21984315, d_loss: 0.45205906 gf_loss:0.509043 time_spent:1.1235086917877197s\n",
      "epoch: 39, g_loss: 0.21623889, d_loss: 0.45008686 gf_loss:0.5071588 time_spent:1.1128323078155518s\n",
      "epoch: 40, g_loss: 0.21607575, d_loss: 0.45289695 gf_loss:0.5031204 time_spent:1.1103413105010986s\n",
      "epoch: 41, g_loss: 0.21739048, d_loss: 0.44988078 gf_loss:0.5053782 time_spent:1.1406707763671875s\n",
      "epoch: 42, g_loss: 0.2228587, d_loss: 0.45045888 gf_loss:0.5177774 time_spent:1.0068552494049072s\n",
      "epoch: 43, g_loss: 0.2155126, d_loss: 0.45271903 gf_loss:0.5045823 time_spent:0.971992015838623s\n",
      "epoch: 44, g_loss: 0.21891385, d_loss: 0.45218426 gf_loss:0.5133946 time_spent:1.0165488719940186s\n",
      "epoch: 45, g_loss: 0.21954882, d_loss: 0.45091528 gf_loss:0.51325774 time_spent:1.0734963417053223s\n",
      "epoch: 46, g_loss: 0.21860503, d_loss: 0.4531734 gf_loss:0.51487136 time_spent:1.0458974838256836s\n",
      "epoch: 47, g_loss: 0.21846156, d_loss: 0.4472296 gf_loss:0.5173855 time_spent:1.0598077774047852s\n",
      "epoch: 48, g_loss: 0.21835934, d_loss: 0.44559026 gf_loss:0.51592207 time_spent:1.0763065814971924s\n",
      "epoch: 49, g_loss: 0.22147198, d_loss: 0.44676727 gf_loss:0.52189875 time_spent:1.1445648670196533s\n",
      "epoch: 50, g_loss: 0.22030285, d_loss: 0.44654807 gf_loss:0.51632 time_spent:1.1407098770141602s\n",
      "epoch: 51, g_loss: 0.21505108, d_loss: 0.4530484 gf_loss:0.5048794 time_spent:1.1565585136413574s\n",
      "epoch: 52, g_loss: 0.21960033, d_loss: 0.44864893 gf_loss:0.5156414 time_spent:1.1464216709136963s\n",
      "epoch: 53, g_loss: 0.22427073, d_loss: 0.45237666 gf_loss:0.52735233 time_spent:1.1555495262145996s\n",
      "epoch: 54, g_loss: 0.21795616, d_loss: 0.44123757 gf_loss:0.5150248 time_spent:1.101780891418457s\n",
      "epoch: 55, g_loss: 0.2254618, d_loss: 0.44942284 gf_loss:0.5358914 time_spent:1.1417584419250488s\n",
      "epoch: 56, g_loss: 0.22369708, d_loss: 0.44604975 gf_loss:0.5279691 time_spent:1.0711822509765625s\n",
      "epoch: 57, g_loss: 0.21934453, d_loss: 0.4472344 gf_loss:0.51797056 time_spent:1.1022193431854248s\n",
      "epoch: 58, g_loss: 0.2153928, d_loss: 0.45522866 gf_loss:0.5051887 time_spent:1.009934902191162s\n",
      "epoch: 59, g_loss: 0.2194731, d_loss: 0.44867992 gf_loss:0.51775646 time_spent:1.0288259983062744s\n",
      "epoch: 60, g_loss: 0.21983024, d_loss: 0.45012698 gf_loss:0.5224052 time_spent:0.9924185276031494s\n",
      "epoch: 61, g_loss: 0.22481875, d_loss: 0.45502853 gf_loss:0.52297384 time_spent:1.0051567554473877s\n",
      "epoch: 62, g_loss: 0.2167123, d_loss: 0.44622082 gf_loss:0.51052904 time_spent:1.0226576328277588s\n",
      "epoch: 63, g_loss: 0.2205463, d_loss: 0.44584244 gf_loss:0.51764286 time_spent:1.0025181770324707s\n",
      "epoch: 64, g_loss: 0.22099763, d_loss: 0.45026743 gf_loss:0.5235477 time_spent:0.9928247928619385s\n",
      "epoch: 65, g_loss: 0.21876697, d_loss: 0.4508742 gf_loss:0.5104706 time_spent:1.0056357383728027s\n",
      "epoch: 66, g_loss: 0.21843426, d_loss: 0.449287 gf_loss:0.513681 time_spent:1.0113413333892822s\n",
      "epoch: 67, g_loss: 0.22071832, d_loss: 0.44180334 gf_loss:0.52362996 time_spent:1.11275315284729s\n",
      "epoch: 68, g_loss: 0.21883535, d_loss: 0.4470728 gf_loss:0.5176633 time_spent:1.028494119644165s\n",
      "epoch: 69, g_loss: 0.22077867, d_loss: 0.4463428 gf_loss:0.5216131 time_spent:1.0306248664855957s\n",
      "epoch: 70, g_loss: 0.21919352, d_loss: 0.44955957 gf_loss:0.5176239 time_spent:1.1544444561004639s\n",
      "epoch: 71, g_loss: 0.21546431, d_loss: 0.4511038 gf_loss:0.5032557 time_spent:1.0902271270751953s\n",
      "epoch: 72, g_loss: 0.21861091, d_loss: 0.44660413 gf_loss:0.5159117 time_spent:1.1666064262390137s\n",
      "epoch: 73, g_loss: 0.21563043, d_loss: 0.44993532 gf_loss:0.5064478 time_spent:1.105360746383667s\n",
      "epoch: 74, g_loss: 0.21791431, d_loss: 0.44892114 gf_loss:0.51180893 time_spent:1.1113560199737549s\n",
      "epoch: 75, g_loss: 0.21692887, d_loss: 0.4499479 gf_loss:0.5097691 time_spent:1.039552927017212s\n",
      "epoch: 76, g_loss: 0.21304567, d_loss: 0.444366 gf_loss:0.5011317 time_spent:1.0181708335876465s\n",
      "epoch: 77, g_loss: 0.22208564, d_loss: 0.45028365 gf_loss:0.514606 time_spent:1.0274567604064941s\n",
      "epoch: 78, g_loss: 0.2215896, d_loss: 0.45885372 gf_loss:0.51264286 time_spent:1.1742630004882812s\n",
      "epoch: 79, g_loss: 0.21802127, d_loss: 0.44874257 gf_loss:0.51675916 time_spent:1.1892783641815186s\n",
      "epoch: 80, g_loss: 0.21514514, d_loss: 0.44558156 gf_loss:0.5053656 time_spent:1.1146824359893799s\n",
      "epoch: 81, g_loss: 0.21906115, d_loss: 0.45166534 gf_loss:0.51630676 time_spent:1.1700665950775146s\n",
      "epoch: 82, g_loss: 0.21897009, d_loss: 0.44063842 gf_loss:0.5182828 time_spent:1.0325171947479248s\n",
      "epoch: 83, g_loss: 0.21853445, d_loss: 0.44983163 gf_loss:0.5157683 time_spent:1.080700159072876s\n",
      "epoch: 84, g_loss: 0.22276261, d_loss: 0.4489599 gf_loss:0.5216758 time_spent:1.094428300857544s\n",
      "epoch: 85, g_loss: 0.2170403, d_loss: 0.4519123 gf_loss:0.50824696 time_spent:1.1730084419250488s\n",
      "epoch: 86, g_loss: 0.22040814, d_loss: 0.45044327 gf_loss:0.52080107 time_spent:1.0922174453735352s\n",
      "epoch: 87, g_loss: 0.2208708, d_loss: 0.44698632 gf_loss:0.52530956 time_spent:1.195002555847168s\n",
      "epoch: 88, g_loss: 0.21649595, d_loss: 0.45106876 gf_loss:0.5150311 time_spent:1.058563232421875s\n",
      "epoch: 89, g_loss: 0.21722281, d_loss: 0.444477 gf_loss:0.5139368 time_spent:1.1163349151611328s\n",
      "epoch: 90, g_loss: 0.21493013, d_loss: 0.4456634 gf_loss:0.510847 time_spent:1.0900592803955078s\n",
      "epoch: 91, g_loss: 0.21721327, d_loss: 0.44630462 gf_loss:0.5130523 time_spent:1.0384013652801514s\n",
      "epoch: 92, g_loss: 0.2157169, d_loss: 0.44761875 gf_loss:0.5090852 time_spent:1.1327235698699951s\n",
      "epoch: 93, g_loss: 0.22569251, d_loss: 0.44448423 gf_loss:0.5372021 time_spent:1.1460421085357666s\n",
      "epoch: 94, g_loss: 0.21409829, d_loss: 0.4457249 gf_loss:0.50115186 time_spent:1.1782822608947754s\n",
      "epoch: 95, g_loss: 0.21735847, d_loss: 0.44091898 gf_loss:0.5147917 time_spent:1.1565916538238525s\n",
      "epoch: 96, g_loss: 0.21593964, d_loss: 0.44966185 gf_loss:0.5099834 time_spent:1.0729122161865234s\n",
      "epoch: 97, g_loss: 0.2148494, d_loss: 0.45080644 gf_loss:0.50553674 time_spent:1.1151907444000244s\n",
      "epoch: 98, g_loss: 0.21905519, d_loss: 0.45004767 gf_loss:0.5170076 time_spent:1.2036800384521484s\n",
      "epoch: 99, g_loss: 0.2202799, d_loss: 0.44423294 gf_loss:0.52361566 time_spent:1.193664312362671s\n"
     ]
    }
   ],
   "source": [
    "g_log, d_log = train_process(epochs = 100)"
   ]
  },
  {
   "cell_type": "code",
   "execution_count": 18,
   "metadata": {},
   "outputs": [],
   "source": [
    "saver=tf.train.Saver(max_to_keep=1)\n",
    "pa = saver.save(sess,\"/home/charlieniu21/code/GANCS/model/mnist_1.ckpt\")"
   ]
  },
  {
   "cell_type": "code",
   "execution_count": 20,
   "metadata": {},
   "outputs": [
    {
     "name": "stdout",
     "output_type": "stream",
     "text": [
      "INFO:tensorflow:Restoring parameters from /home/charlieniu21/code/GANCS/model/mnist.ckpt\n"
     ]
    }
   ],
   "source": [
    "sess = tf.Session()\n",
    "model_file=tf.train.latest_checkpoint('/home/charlieniu21/code/GANCS/model/')\n",
    "saver.restore(sess, model_file)"
   ]
  },
  {
   "cell_type": "code",
   "execution_count": 24,
   "metadata": {},
   "outputs": [],
   "source": [
    "o2 = sess.run(gene_output,feed_dict = {model_input_masked:masked, model_input_gtrue:batch, learning_rate: 0.001})"
   ]
  },
  {
   "cell_type": "code",
   "execution_count": 22,
   "metadata": {},
   "outputs": [
    {
     "data": {
      "text/plain": [
       "(100, 28, 28, 1)"
      ]
     },
     "execution_count": 22,
     "metadata": {},
     "output_type": "execute_result"
    }
   ],
   "source": [
    "o2.shape"
   ]
  },
  {
   "cell_type": "code",
   "execution_count": 60,
   "metadata": {},
   "outputs": [],
   "source": [
    "m = o2[97,:,:,:]"
   ]
  },
  {
   "cell_type": "code",
   "execution_count": 61,
   "metadata": {},
   "outputs": [
    {
     "data": {
      "text/plain": [
       "(28, 28, 1)"
      ]
     },
     "execution_count": 61,
     "metadata": {},
     "output_type": "execute_result"
    }
   ],
   "source": [
    "m.shape"
   ]
  },
  {
   "cell_type": "code",
   "execution_count": 62,
   "metadata": {},
   "outputs": [
    {
     "data": {
      "text/plain": [
       "<matplotlib.image.AxesImage at 0x7f05c1d04da0>"
      ]
     },
     "execution_count": 62,
     "metadata": {},
     "output_type": "execute_result"
    },
    {
     "data": {
      "image/png": "[encoded data removed]",
      "text/plain": [
       "<Figure size 432x288 with 1 Axes>"
      ]
     },
     "metadata": {
      "needs_background": "light"
     },
     "output_type": "display_data"
    }
   ],
   "source": [
    "m = np.reshape(m, [28, 28])\n",
    "plt.imshow(m, cmap = \"gray\")"
   ]
  },
  {
   "cell_type": "code",
   "execution_count": 63,
   "metadata": {},
   "outputs": [
    {
     "data": {
      "text/plain": [
       "<matplotlib.image.AxesImage at 0x7f05c1ce2be0>"
      ]
     },
     "execution_count": 63,
     "metadata": {},
     "output_type": "execute_result"
    },
    {
     "data": {
      "image/png": "[encoded data removed]",
      "text/plain": [
       "<Figure size 432x288 with 1 Axes>"
      ]
     },
     "metadata": {
      "needs_background": "light"
     },
     "output_type": "display_data"
    }
   ],
   "source": [
    "g = batch[97,:,:,:]\n",
    "g = np.reshape(g, [28, 28])\n",
    "plt.imshow(g, cmap = \"gray\")"
   ]
  },
  {
   "cell_type": "code",
   "execution_count": 64,
   "metadata": {},
   "outputs": [
    {
     "data": {
      "text/plain": [
       "<matplotlib.image.AxesImage at 0x7f05c1c5ada0>"
      ]
     },
     "execution_count": 64,
     "metadata": {},
     "output_type": "execute_result"
    },
    {
     "data": {
      "image/png": "[encoded data removed]",
      "text/plain": [
       "<Figure size 432x288 with 1 Axes>"
      ]
     },
     "metadata": {
      "needs_background": "light"
     },
     "output_type": "display_data"
    }
   ],
   "source": [
    "m1 = tf.cast(masked[97][:][:][:], tf.complex64)\n",
    "re = m1[:,:,0]+1j*m1[:,:,1]\n",
    "r = tf.abs(re)\n",
    "r = tf.reshape(r, [28, 28])\n",
    "with tf.Session() as ses:\n",
    "    o1 = ses.run(r)\n",
    "plt.imshow(o1, cmap = \"gray\")"
   ]
  },
  {
   "cell_type": "code",
   "execution_count": null,
   "metadata": {},
   "outputs": [],
   "source": []
  }
 ],
 "metadata": {
  "kernelspec": {
   "display_name": "Python 3",
   "language": "python",
   "name": "python3"
  },
  "language_info": {
   "codemirror_mode": {
    "name": "ipython",
    "version": 3
   },
   "file_extension": ".py",
   "mimetype": "text/x-python",
   "name": "python",
   "nbconvert_exporter": "python",
   "pygments_lexer": "ipython3",
   "version": "3.6.8"
  }
 },
 "nbformat": 4,
 "nbformat_minor": 2
}
