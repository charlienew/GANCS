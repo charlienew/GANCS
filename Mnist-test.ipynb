{
 "cells": [
  {
   "cell_type": "code",
   "execution_count": 1,
   "metadata": {},
   "outputs": [],
   "source": [
    "import tensorflow as tf\n",
    "import test_model as tm\n",
    "import numpy as np\n",
    "import math \n",
    "import matplotlib.pyplot as plt\n",
    "%matplotlib inline"
   ]
  },
  {
   "cell_type": "code",
   "execution_count": 2,
   "metadata": {},
   "outputs": [
    {
     "name": "stdout",
     "output_type": "stream",
     "text": [
      "1.13.1\n"
     ]
    }
   ],
   "source": [
    "print(tf.VERSION)"
   ]
  },
  {
   "cell_type": "markdown",
   "metadata": {},
   "source": [
    "preparing mask"
   ]
  },
  {
   "cell_type": "code",
   "execution_count": 3,
   "metadata": {},
   "outputs": [
    {
     "name": "stdout",
     "output_type": "stream",
     "text": [
      "gen mask for R-factor=3.5000\n",
      "3.5 (array([ 0,  1,  2,  3,  4,  5,  6,  7,  8,  9, 10, 11, 12, 13, 14, 15, 16,\n",
      "       17, 18, 19, 20, 21, 22, 23, 24, 25, 26, 27]),)\n"
     ]
    }
   ],
   "source": [
    "def getMask(size=[128,128], porder = 5.0, bias = 0.1, acs = 3, seed = 0, axis_undersample=1, mute=0):\n",
    "    # init\n",
    "    mask = np.zeros(size)\n",
    "    np.random.seed(seed)\n",
    "    # gen random mask\n",
    "    for i in range(size[1]):\n",
    "        x = (i-size[1]/2.0)/(size[1]/2.0)\n",
    "        p = np.random.rand() \n",
    "        if p <= abs(x)**porder + bias:\n",
    "            if axis_undersample == 0:\n",
    "                mask[i][:]=1\n",
    "            else:\n",
    "                mask[:][i]=1\n",
    "    # acs                \n",
    "    if axis_undersample == 0:\n",
    "        mask[:int((acs+1)/2)][:]=1\n",
    "        mask[-int(acs/2):][:]=1\n",
    "    else:\n",
    "        mask[:][:int((acs+1)/2)]=1\n",
    "        mask[:][-int(acs/2):]=1\n",
    "\n",
    "    # compute reduction\n",
    "    r_factor = len(mask.flatten())/sum(mask.flatten())\n",
    "    if not mute:\n",
    "        print('gen mask for R-factor={0:.4f}'.format(r_factor))\n",
    "\n",
    "    # use tf\n",
    "    return mask, r_factor\n",
    "\n",
    "mask, r_factor = getMask(size=[28,28], porder=5, acs = 3)\n",
    "print(r_factor, np.where(mask[0,:]))"
   ]
  },
  {
   "cell_type": "code",
   "execution_count": 4,
   "metadata": {},
   "outputs": [
    {
     "data": {
      "text/plain": [
       "<matplotlib.image.AxesImage at 0x7f6df52e0630>"
      ]
     },
     "execution_count": 4,
     "metadata": {},
     "output_type": "execute_result"
    },
    {
     "data": {
      "image/png": "[encoded data removed]",
      "text/plain": [
       "<Figure size 432x288 with 1 Axes>"
      ]
     },
     "metadata": {
      "needs_background": "light"
     },
     "output_type": "display_data"
    }
   ],
   "source": [
    "plt.imshow(mask, cmap = \"gray\")"
   ]
  },
  {
   "cell_type": "markdown",
   "metadata": {},
   "source": [
    "get training data--mnist dataset"
   ]
  },
  {
   "cell_type": "code",
   "execution_count": 5,
   "metadata": {},
   "outputs": [],
   "source": [
    "((train_data, train_labels),\n",
    " (eval_data, eval_labels)) = tf.keras.datasets.mnist.load_data()\n",
    "train_data = train_data/np.float32(255)\n",
    "eval_data = eval_data/np.float32(255)\n",
    "mask = np.reshape(mask, [1, 28, 28])"
   ]
  },
  {
   "cell_type": "code",
   "execution_count": 6,
   "metadata": {},
   "outputs": [],
   "source": [
    "def get_batch(size = 100):\n",
    "    batch_loc = np.random.randint(60000, size=size)\n",
    "    train_bat_im = train_data[batch_loc]\n",
    "    return np.reshape(train_bat_im,[size, 28, 28, 1])\n",
    "\n",
    "def get_masked(data, mask):\n",
    "    d_complex = tf.reshape(tf.cast(data, tf.complex64),\n",
    "                           [data.shape[0], 28, 28])\n",
    "    mask_complex = tf.cast(mask, tf.complex64)\n",
    "    d_kspace = tf.fft2d(d_complex)*mask_complex\n",
    "    d_masked_complex = tf.ifft2d(d_kspace)\n",
    "    d_masked_real = tf.reshape(tf.real(d_masked_complex), \n",
    "                               [d_masked_complex.get_shape()[0], 28, 28, 1])\n",
    "    d_masked_imag = tf.reshape(tf.imag(d_masked_complex), \n",
    "                               [d_masked_complex.get_shape()[0], 28, 28, 1])\n",
    "    d_masked = tf.concat([d_masked_real, d_masked_imag], axis = 3)\n",
    "    with tf.Session() as sess:\n",
    "        masked = sess.run(d_masked)\n",
    "    return masked"
   ]
  },
  {
   "cell_type": "code",
   "execution_count": 7,
   "metadata": {},
   "outputs": [],
   "source": [
    "batch = get_batch()\n",
    "masked = get_masked(batch, mask)"
   ]
  },
  {
   "cell_type": "code",
   "execution_count": 8,
   "metadata": {},
   "outputs": [],
   "source": [
    "m1 = tf.cast(masked[1][:][:][:], tf.complex64)\n",
    "re = m1[:,:,0]+1j*m1[:,:,1]\n",
    "r = tf.abs(re)\n",
    "r = tf.reshape(r, [28, 28])"
   ]
  },
  {
   "cell_type": "code",
   "execution_count": 9,
   "metadata": {},
   "outputs": [],
   "source": [
    "with tf.Session() as sess:\n",
    "    o1 = sess.run(r)"
   ]
  },
  {
   "cell_type": "code",
   "execution_count": 10,
   "metadata": {},
   "outputs": [
    {
     "data": {
      "text/plain": [
       "<matplotlib.image.AxesImage at 0x7f6df23eab00>"
      ]
     },
     "execution_count": 10,
     "metadata": {},
     "output_type": "execute_result"
    },
    {
     "data": {
      "image/png": "[encoded data removed]",
      "text/plain": [
       "<Figure size 432x288 with 1 Axes>"
      ]
     },
     "metadata": {
      "needs_background": "light"
     },
     "output_type": "display_data"
    }
   ],
   "source": [
    "plt.imshow(o1, cmap = \"gray\")"
   ]
  },
  {
   "cell_type": "code",
   "execution_count": 11,
   "metadata": {},
   "outputs": [
    {
     "data": {
      "text/plain": [
       "<matplotlib.image.AxesImage at 0x7f6df234df98>"
      ]
     },
     "execution_count": 11,
     "metadata": {},
     "output_type": "execute_result"
    },
    {
     "data": {
      "image/png": "[encoded data removed]",
      "text/plain": [
       "<Figure size 432x288 with 1 Axes>"
      ]
     },
     "metadata": {
      "needs_background": "light"
     },
     "output_type": "display_data"
    }
   ],
   "source": [
    "r1 = np.reshape(batch[1,:,:,:], [28, 28])\n",
    "plt.imshow(r1, cmap = \"gray\")"
   ]
  },
  {
   "cell_type": "markdown",
   "metadata": {},
   "source": [
    "preparing model structure"
   ]
  },
  {
   "cell_type": "code",
   "execution_count": 12,
   "metadata": {},
   "outputs": [],
   "source": [
    "batchsize = 100 # change it along with test_model.py\n",
    "model_input_masked = tf.placeholder(tf.float32, [batchsize, 28, 28, 2], \n",
    "                                    \"masked\")\n",
    "model_input_gtrue = tf.placeholder(tf.float32, [batchsize, 28, 28, 1], \n",
    "                                   \"ground_truth\")\n"
   ]
  },
  {
   "cell_type": "code",
   "execution_count": 13,
   "metadata": {},
   "outputs": [
    {
     "name": "stdout",
     "output_type": "stream",
     "text": [
      "use resnet without pooling: [64, 64, 64]\n",
      "WARNING:tensorflow:From /home/charlieniu21/anaconda3/lib/python3.6/site-packages/tensorflow/python/framework/op_def_library.py:263: colocate_with (from tensorflow.python.framework.ops) is deprecated and will be removed in a future version.\n",
      "Instructions for updating:\n",
      "Colocations handled automatically by placer.\n",
      "\n",
      "WARNING: The TensorFlow contrib module will not be included in TensorFlow 2.0.\n",
      "For more information, please see:\n",
      "  * https://github.com/tensorflow/community/blob/master/rfcs/20180907-contrib-sunset.md\n",
      "  * https://github.com/tensorflow/addons\n",
      "If you depend on functionality not listed there, please file an issue.\n",
      "\n",
      "using Fourier, input dim (100, 28, 28, 2), output dim (100, 28, 28)\n",
      "using Fourier, input dim (100, 28, 28, 2), output dim (100, 28, 28)\n",
      "use resnet without pooling: [64, 64, 64]\n",
      "using Fourier, input dim (100, 28, 28, 2), output dim (100, 28, 28)\n",
      "using Fourier, input dim (100, 28, 28, 2), output dim (100, 28, 28)\n",
      "use resnet without pooling: [64, 64, 64]\n",
      "using Fourier, input dim (100, 28, 28, 2), output dim (100, 28, 28)\n",
      "using Fourier, input dim (100, 28, 28, 2), output dim (100, 28, 28)\n",
      "use resnet without pooling: [64, 64, 64]\n",
      "using Fourier, input dim (100, 28, 28, 2), output dim (100, 28, 28)\n",
      "using Fourier, input dim (100, 28, 28, 2), output dim (100, 28, 28)\n",
      "use resnet without pooling: [64, 64, 64]\n",
      "using Fourier, input dim (100, 28, 28, 2), output dim (100, 28, 28)\n",
      "using Fourier, input dim (100, 28, 28, 2), output dim (100, 28, 28)\n",
      "use resnet without pooling: [64, 64, 64]\n",
      "using Fourier, input dim (100, 28, 28, 2), output dim (100, 28, 28)\n",
      "using Fourier, input dim (100, 28, 28, 2), output dim (100, 28, 28)\n",
      "use resnet without pooling: [64, 64, 64]\n",
      "using Fourier, input dim (100, 28, 28, 2), output dim (100, 28, 28)\n",
      "using Fourier, input dim (100, 28, 28, 2), output dim (100, 28, 28)\n",
      "use resnet without pooling: [64, 64, 64]\n",
      "using Fourier, input dim (100, 28, 28, 2), output dim (100, 28, 28)\n",
      "using Fourier, input dim (100, 28, 28, 2), output dim (100, 28, 28)\n",
      "use resnet without pooling: [64, 64, 64]\n",
      "using Fourier, input dim (100, 28, 28, 2), output dim (100, 28, 28)\n",
      "using Fourier, input dim (100, 28, 28, 2), output dim (100, 28, 28)\n",
      "use resnet without pooling: [64, 64, 64]\n",
      "using Fourier, input dim (100, 28, 28, 2), output dim (100, 28, 28)\n",
      "using Fourier, input dim (100, 28, 28, 2), output dim (100, 28, 28)\n",
      "use resnet without pooling: [64, 64, 64]\n",
      "using Fourier, input dim (100, 28, 28, 2), output dim (100, 28, 28)\n",
      "using Fourier, input dim (100, 28, 28, 2), output dim (100, 28, 28)\n",
      "use resnet without pooling: [64, 64, 64]\n",
      "using Fourier, input dim (100, 28, 28, 2), output dim (100, 28, 28)\n",
      "using Fourier, input dim (100, 28, 28, 2), output dim (100, 28, 28)\n",
      "use resnet without pooling: [64, 64, 64]\n",
      "using Fourier, input dim (100, 28, 28, 2), output dim (100, 28, 28)\n",
      "using Fourier, input dim (100, 28, 28, 2), output dim (100, 28, 28)\n",
      "use resnet without pooling: [64, 64, 64]\n",
      "using Fourier, input dim (100, 28, 28, 2), output dim (100, 28, 28)\n",
      "using Fourier, input dim (100, 28, 28, 2), output dim (100, 28, 28)\n",
      "use resnet without pooling: [64, 64, 64]\n",
      "using Fourier, input dim (100, 28, 28, 2), output dim (100, 28, 28)\n",
      "using Fourier, input dim (100, 28, 28, 2), output dim (100, 28, 28)\n",
      "using Fourier, input dim (100, 28, 28), output dim (100, 28, 28)\n",
      "using Fourier, input dim (100, 28, 28, 2), output dim (100, 28, 28)\n",
      "WARNING:tensorflow:From /home/charlieniu21/anaconda3/lib/python3.6/site-packages/tensorflow/python/ops/math_ops.py:3066: to_int32 (from tensorflow.python.ops.math_ops) is deprecated and will be removed in a future version.\n",
      "Instructions for updating:\n",
      "Use tf.cast instead.\n"
     ]
    }
   ],
   "source": [
    "sess = tf.Session()\n",
    "\n",
    "\n",
    "gene_output, gene_output_complex, gene_var_list, gene_layers, disc_real_output, disc_fake_output, disc_var_list, disc_layers = tm.create_model(sess, model_input_masked, model_input_gtrue, mask)\n",
    "    \n",
    "    \n",
    "gene_loss, gene_dc_loss, gene_fool_loss, list_gene_lose, gene_mse_factor = tm.create_generator_loss(disc_fake_output, gene_output, gene_output_complex, model_input_masked, model_input_gtrue, mask)\n",
    "    \n",
    "    \n",
    "disc_loss = tm.create_discriminator_loss(disc_real_output, disc_fake_output)\n",
    "    \n",
    "global_step, learning_rate, gene_minimize, disc_minimize = tm.create_optimizers(gene_loss, gene_var_list,disc_loss, disc_var_list)\n",
    "    \n",
    "    "
   ]
  },
  {
   "cell_type": "code",
   "execution_count": 14,
   "metadata": {},
   "outputs": [],
   "source": [
    "import time\n",
    "\n",
    "def train_process(epochs = 20, batch_size = 100):\n",
    "    gene_train_log = []\n",
    "    disc_train_log = []\n",
    "    train_time = 0\n",
    "    while train_time<epochs:\n",
    "        start_time = time.time()\n",
    "        batch_true = get_batch(batch_size)\n",
    "        batch_masked = get_masked(batch_true, mask)\n",
    "        g_los, d_los = sess.run([gene_loss, disc_loss],feed_dict = {model_input_masked:batch_masked, model_input_gtrue:batch_true, learning_rate: 0.0001})\n",
    "        print('done with loss')\n",
    "        gene_train_log.append(g_los)\n",
    "        disc_train_log.append(d_los)\n",
    "        sess.run([gene_minimize,disc_minimize],feed_dict = {model_input_masked:batch_masked, model_input_gtrue:batch_true, learning_rate: 0.0001})\n",
    "        print(\"epoch: \"+str(train_time)+\", g_loss: \"+str(g_los)+\", d_loss: \"+str(d_los)+\" time_spent:\"+str(time.time()-start_time)+\"s\")\n",
    "        train_time += 1\n",
    "    return (gene_train_log, disc_train_log)"
   ]
  },
  {
   "cell_type": "code",
   "execution_count": 15,
   "metadata": {},
   "outputs": [],
   "source": [
    "init = tf.global_variables_initializer()\n",
    "#writer = tf.summary.FileWriter(\"logs/\", sess.graph)\n",
    "sess.run(init)"
   ]
  },
  {
   "cell_type": "code",
   "execution_count": 16,
   "metadata": {},
   "outputs": [
    {
     "name": "stdout",
     "output_type": "stream",
     "text": [
      "done with loss\n"
     ]
    },
    {
     "ename": "AbortedError",
     "evalue": "Operation received an exception:Status: 5, message: could not create a view primitive descriptor, in file tensorflow/core/kernels/mkl_slice_op.cc:435\n\t [[node gradients/gene/concat_13_grad/Slice_1 (defined at /home/charlieniu21/code/GANCS/test_model.py:1052) ]]\n\nCaused by op 'gradients/gene/concat_13_grad/Slice_1', defined at:\n  File \"/home/charlieniu21/anaconda3/lib/python3.6/runpy.py\", line 193, in _run_module_as_main\n    \"__main__\", mod_spec)\n  File \"/home/charlieniu21/anaconda3/lib/python3.6/runpy.py\", line 85, in _run_code\n    exec(code, run_globals)\n  File \"/home/charlieniu21/anaconda3/lib/python3.6/site-packages/ipykernel_launcher.py\", line 16, in <module>\n    app.launch_new_instance()\n  File \"/home/charlieniu21/anaconda3/lib/python3.6/site-packages/traitlets/config/application.py\", line 658, in launch_instance\n    app.start()\n  File \"/home/charlieniu21/anaconda3/lib/python3.6/site-packages/ipykernel/kernelapp.py\", line 505, in start\n    self.io_loop.start()\n  File \"/home/charlieniu21/anaconda3/lib/python3.6/site-packages/tornado/platform/asyncio.py\", line 148, in start\n    self.asyncio_loop.run_forever()\n  File \"/home/charlieniu21/anaconda3/lib/python3.6/asyncio/base_events.py\", line 438, in run_forever\n    self._run_once()\n  File \"/home/charlieniu21/anaconda3/lib/python3.6/asyncio/base_events.py\", line 1451, in _run_once\n    handle._run()\n  File \"/home/charlieniu21/anaconda3/lib/python3.6/asyncio/events.py\", line 145, in _run\n    self._callback(*self._args)\n  File \"/home/charlieniu21/anaconda3/lib/python3.6/site-packages/tornado/ioloop.py\", line 690, in <lambda>\n    lambda f: self._run_callback(functools.partial(callback, future))\n  File \"/home/charlieniu21/anaconda3/lib/python3.6/site-packages/tornado/ioloop.py\", line 743, in _run_callback\n    ret = callback()\n  File \"/home/charlieniu21/anaconda3/lib/python3.6/site-packages/tornado/gen.py\", line 781, in inner\n    self.run()\n  File \"/home/charlieniu21/anaconda3/lib/python3.6/site-packages/tornado/gen.py\", line 742, in run\n    yielded = self.gen.send(value)\n  File \"/home/charlieniu21/anaconda3/lib/python3.6/site-packages/ipykernel/kernelbase.py\", line 357, in process_one\n    yield gen.maybe_future(dispatch(*args))\n  File \"/home/charlieniu21/anaconda3/lib/python3.6/site-packages/tornado/gen.py\", line 209, in wrapper\n    yielded = next(result)\n  File \"/home/charlieniu21/anaconda3/lib/python3.6/site-packages/ipykernel/kernelbase.py\", line 267, in dispatch_shell\n    yield gen.maybe_future(handler(stream, idents, msg))\n  File \"/home/charlieniu21/anaconda3/lib/python3.6/site-packages/tornado/gen.py\", line 209, in wrapper\n    yielded = next(result)\n  File \"/home/charlieniu21/anaconda3/lib/python3.6/site-packages/ipykernel/kernelbase.py\", line 534, in execute_request\n    user_expressions, allow_stdin,\n  File \"/home/charlieniu21/anaconda3/lib/python3.6/site-packages/tornado/gen.py\", line 209, in wrapper\n    yielded = next(result)\n  File \"/home/charlieniu21/anaconda3/lib/python3.6/site-packages/ipykernel/ipkernel.py\", line 294, in do_execute\n    res = shell.run_cell(code, store_history=store_history, silent=silent)\n  File \"/home/charlieniu21/anaconda3/lib/python3.6/site-packages/ipykernel/zmqshell.py\", line 536, in run_cell\n    return super(ZMQInteractiveShell, self).run_cell(*args, **kwargs)\n  File \"/home/charlieniu21/anaconda3/lib/python3.6/site-packages/IPython/core/interactiveshell.py\", line 2848, in run_cell\n    raw_cell, store_history, silent, shell_futures)\n  File \"/home/charlieniu21/anaconda3/lib/python3.6/site-packages/IPython/core/interactiveshell.py\", line 2874, in _run_cell\n    return runner(coro)\n  File \"/home/charlieniu21/anaconda3/lib/python3.6/site-packages/IPython/core/async_helpers.py\", line 67, in _pseudo_sync_runner\n    coro.send(None)\n  File \"/home/charlieniu21/anaconda3/lib/python3.6/site-packages/IPython/core/interactiveshell.py\", line 3049, in run_cell_async\n    interactivity=interactivity, compiler=compiler, result=result)\n  File \"/home/charlieniu21/anaconda3/lib/python3.6/site-packages/IPython/core/interactiveshell.py\", line 3214, in run_ast_nodes\n    if (yield from self.run_code(code, result)):\n  File \"/home/charlieniu21/anaconda3/lib/python3.6/site-packages/IPython/core/interactiveshell.py\", line 3296, in run_code\n    exec(code_obj, self.user_global_ns, self.user_ns)\n  File \"<ipython-input-13-a5cd86dacc9c>\", line 12, in <module>\n    global_step, learning_rate, gene_minimize, disc_minimize = tm.create_optimizers(gene_loss, gene_var_list,disc_loss, disc_var_list)\n  File \"/home/charlieniu21/code/GANCS/test_model.py\", line 1052, in create_optimizers\n    gene_minimize = gene_opti.minimize(gene_loss, var_list=gene_var_list, name='gene_loss_minimize', global_step=global_step)\n  File \"/home/charlieniu21/anaconda3/lib/python3.6/site-packages/tensorflow/python/training/optimizer.py\", line 403, in minimize\n    grad_loss=grad_loss)\n  File \"/home/charlieniu21/anaconda3/lib/python3.6/site-packages/tensorflow/python/training/optimizer.py\", line 512, in compute_gradients\n    colocate_gradients_with_ops=colocate_gradients_with_ops)\n  File \"/home/charlieniu21/anaconda3/lib/python3.6/site-packages/tensorflow/python/ops/gradients_impl.py\", line 664, in gradients\n    unconnected_gradients)\n  File \"/home/charlieniu21/anaconda3/lib/python3.6/site-packages/tensorflow/python/ops/gradients_impl.py\", line 965, in _GradientsHelper\n    lambda: grad_fn(op, *out_grads))\n  File \"/home/charlieniu21/anaconda3/lib/python3.6/site-packages/tensorflow/python/ops/gradients_impl.py\", line 420, in _MaybeCompile\n    return grad_fn()  # Exit early\n  File \"/home/charlieniu21/anaconda3/lib/python3.6/site-packages/tensorflow/python/ops/gradients_impl.py\", line 965, in <lambda>\n    lambda: grad_fn(op, *out_grads))\n  File \"/home/charlieniu21/anaconda3/lib/python3.6/site-packages/tensorflow/python/ops/array_grad.py\", line 222, in _ConcatGradV2\n    op, grad, start_value_index=0, end_value_index=-1, dim_index=-1)\n  File \"/home/charlieniu21/anaconda3/lib/python3.6/site-packages/tensorflow/python/ops/array_grad.py\", line 150, in _ConcatGradHelper\n    out_grads.append(array_ops.slice(grad, begin, size))\n  File \"/home/charlieniu21/anaconda3/lib/python3.6/site-packages/tensorflow/python/ops/array_ops.py\", line 707, in slice\n    return gen_array_ops._slice(input_, begin, size, name=name)\n  File \"/home/charlieniu21/anaconda3/lib/python3.6/site-packages/tensorflow/python/ops/gen_array_ops.py\", line 8236, in _slice\n    \"Slice\", input=input, begin=begin, size=size, name=name)\n  File \"/home/charlieniu21/anaconda3/lib/python3.6/site-packages/tensorflow/python/framework/op_def_library.py\", line 788, in _apply_op_helper\n    op_def=op_def)\n  File \"/home/charlieniu21/anaconda3/lib/python3.6/site-packages/tensorflow/python/util/deprecation.py\", line 507, in new_func\n    return func(*args, **kwargs)\n  File \"/home/charlieniu21/anaconda3/lib/python3.6/site-packages/tensorflow/python/framework/ops.py\", line 3300, in create_op\n    op_def=op_def)\n  File \"/home/charlieniu21/anaconda3/lib/python3.6/site-packages/tensorflow/python/framework/ops.py\", line 1801, in __init__\n    self._traceback = tf_stack.extract_stack()\n\n...which was originally created as op 'gene/concat_13', defined at:\n  File \"/home/charlieniu21/anaconda3/lib/python3.6/runpy.py\", line 193, in _run_module_as_main\n    \"__main__\", mod_spec)\n[elided 25 identical lines from previous traceback]\n  File \"/home/charlieniu21/anaconda3/lib/python3.6/site-packages/IPython/core/interactiveshell.py\", line 3296, in run_code\n    exec(code_obj, self.user_global_ns, self.user_ns)\n  File \"<ipython-input-13-a5cd86dacc9c>\", line 4, in <module>\n    gene_output, gene_output_complex, gene_var_list, gene_layers, disc_real_output, disc_fake_output, disc_var_list, disc_layers = tm.create_model(sess, model_input_masked, model_input_gtrue, mask)\n  File \"/home/charlieniu21/code/GANCS/test_model.py\", line 810, in create_model\n    gene_output_14, _ , gene_layers_14 = function_generator(sess, gene_output_13, labels, masks, 2)\n  File \"/home/charlieniu21/code/GANCS/test_model.py\", line 765, in <lambda>\n    num_dc_layers=1, layer_output_skip=7)\n  File \"/home/charlieniu21/code/GANCS/test_model.py\", line 719, in _generator_model_with_scale\n    corrected_real_concat = tf.concat([corrected_real, corrected_imag], axis=3)\n  File \"/home/charlieniu21/anaconda3/lib/python3.6/site-packages/tensorflow/python/util/dispatch.py\", line 180, in wrapper\n    return target(*args, **kwargs)\n  File \"/home/charlieniu21/anaconda3/lib/python3.6/site-packages/tensorflow/python/ops/array_ops.py\", line 1256, in concat\n    return gen_array_ops.concat_v2(values=values, axis=axis, name=name)\n  File \"/home/charlieniu21/anaconda3/lib/python3.6/site-packages/tensorflow/python/ops/gen_array_ops.py\", line 1149, in concat_v2\n    \"ConcatV2\", values=values, axis=axis, name=name)\n  File \"/home/charlieniu21/anaconda3/lib/python3.6/site-packages/tensorflow/python/framework/op_def_library.py\", line 788, in _apply_op_helper\n    op_def=op_def)\n  File \"/home/charlieniu21/anaconda3/lib/python3.6/site-packages/tensorflow/python/util/deprecation.py\", line 507, in new_func\n    return func(*args, **kwargs)\n  File \"/home/charlieniu21/anaconda3/lib/python3.6/site-packages/tensorflow/python/framework/ops.py\", line 3300, in create_op\n    op_def=op_def)\n  File \"/home/charlieniu21/anaconda3/lib/python3.6/site-packages/tensorflow/python/framework/ops.py\", line 1801, in __init__\n    self._traceback = tf_stack.extract_stack()\n\nAbortedError (see above for traceback): Operation received an exception:Status: 5, message: could not create a view primitive descriptor, in file tensorflow/core/kernels/mkl_slice_op.cc:435\n\t [[node gradients/gene/concat_13_grad/Slice_1 (defined at /home/charlieniu21/code/GANCS/test_model.py:1052) ]]\n",
     "output_type": "error",
     "traceback": [
      "\u001b[0;31m---------------------------------------------------------------------------\u001b[0m",
      "\u001b[0;31mAbortedError\u001b[0m                              Traceback (most recent call last)",
      "\u001b[0;32m~/anaconda3/lib/python3.6/site-packages/tensorflow/python/client/session.py\u001b[0m in \u001b[0;36m_do_call\u001b[0;34m(self, fn, *args)\u001b[0m\n\u001b[1;32m   1333\u001b[0m     \u001b[0;32mtry\u001b[0m\u001b[0;34m:\u001b[0m\u001b[0;34m\u001b[0m\u001b[0;34m\u001b[0m\u001b[0m\n\u001b[0;32m-> 1334\u001b[0;31m       \u001b[0;32mreturn\u001b[0m \u001b[0mfn\u001b[0m\u001b[0;34m(\u001b[0m\u001b[0;34m*\u001b[0m\u001b[0margs\u001b[0m\u001b[0;34m)\u001b[0m\u001b[0;34m\u001b[0m\u001b[0;34m\u001b[0m\u001b[0m\n\u001b[0m\u001b[1;32m   1335\u001b[0m     \u001b[0;32mexcept\u001b[0m \u001b[0merrors\u001b[0m\u001b[0;34m.\u001b[0m\u001b[0mOpError\u001b[0m \u001b[0;32mas\u001b[0m \u001b[0me\u001b[0m\u001b[0;34m:\u001b[0m\u001b[0;34m\u001b[0m\u001b[0;34m\u001b[0m\u001b[0m\n",
      "\u001b[0;32m~/anaconda3/lib/python3.6/site-packages/tensorflow/python/client/session.py\u001b[0m in \u001b[0;36m_run_fn\u001b[0;34m(feed_dict, fetch_list, target_list, options, run_metadata)\u001b[0m\n\u001b[1;32m   1318\u001b[0m       return self._call_tf_sessionrun(\n\u001b[0;32m-> 1319\u001b[0;31m           options, feed_dict, fetch_list, target_list, run_metadata)\n\u001b[0m\u001b[1;32m   1320\u001b[0m \u001b[0;34m\u001b[0m\u001b[0m\n",
      "\u001b[0;32m~/anaconda3/lib/python3.6/site-packages/tensorflow/python/client/session.py\u001b[0m in \u001b[0;36m_call_tf_sessionrun\u001b[0;34m(self, options, feed_dict, fetch_list, target_list, run_metadata)\u001b[0m\n\u001b[1;32m   1406\u001b[0m         \u001b[0mself\u001b[0m\u001b[0;34m.\u001b[0m\u001b[0m_session\u001b[0m\u001b[0;34m,\u001b[0m \u001b[0moptions\u001b[0m\u001b[0;34m,\u001b[0m \u001b[0mfeed_dict\u001b[0m\u001b[0;34m,\u001b[0m \u001b[0mfetch_list\u001b[0m\u001b[0;34m,\u001b[0m \u001b[0mtarget_list\u001b[0m\u001b[0;34m,\u001b[0m\u001b[0;34m\u001b[0m\u001b[0;34m\u001b[0m\u001b[0m\n\u001b[0;32m-> 1407\u001b[0;31m         run_metadata)\n\u001b[0m\u001b[1;32m   1408\u001b[0m \u001b[0;34m\u001b[0m\u001b[0m\n",
      "\u001b[0;31mAbortedError\u001b[0m: Operation received an exception:Status: 5, message: could not create a view primitive descriptor, in file tensorflow/core/kernels/mkl_slice_op.cc:435\n\t [[{{node gradients/gene/concat_13_grad/Slice_1}}]]",
      "\nDuring handling of the above exception, another exception occurred:\n",
      "\u001b[0;31mAbortedError\u001b[0m                              Traceback (most recent call last)",
      "\u001b[0;32m<ipython-input-16-2fa39a1a934b>\u001b[0m in \u001b[0;36m<module>\u001b[0;34m\u001b[0m\n\u001b[0;32m----> 1\u001b[0;31m \u001b[0mg_log\u001b[0m\u001b[0;34m,\u001b[0m \u001b[0md_log\u001b[0m \u001b[0;34m=\u001b[0m \u001b[0mtrain_process\u001b[0m\u001b[0;34m(\u001b[0m\u001b[0mepochs\u001b[0m \u001b[0;34m=\u001b[0m \u001b[0;36m5\u001b[0m\u001b[0;34m)\u001b[0m\u001b[0;34m\u001b[0m\u001b[0;34m\u001b[0m\u001b[0m\n\u001b[0m",
      "\u001b[0;32m<ipython-input-14-de41ba3c1a80>\u001b[0m in \u001b[0;36mtrain_process\u001b[0;34m(epochs, batch_size)\u001b[0m\n\u001b[1;32m     13\u001b[0m         \u001b[0mgene_train_log\u001b[0m\u001b[0;34m.\u001b[0m\u001b[0mappend\u001b[0m\u001b[0;34m(\u001b[0m\u001b[0mg_los\u001b[0m\u001b[0;34m)\u001b[0m\u001b[0;34m\u001b[0m\u001b[0;34m\u001b[0m\u001b[0m\n\u001b[1;32m     14\u001b[0m         \u001b[0mdisc_train_log\u001b[0m\u001b[0;34m.\u001b[0m\u001b[0mappend\u001b[0m\u001b[0;34m(\u001b[0m\u001b[0md_los\u001b[0m\u001b[0;34m)\u001b[0m\u001b[0;34m\u001b[0m\u001b[0;34m\u001b[0m\u001b[0m\n\u001b[0;32m---> 15\u001b[0;31m         \u001b[0msess\u001b[0m\u001b[0;34m.\u001b[0m\u001b[0mrun\u001b[0m\u001b[0;34m(\u001b[0m\u001b[0;34m[\u001b[0m\u001b[0mgene_minimize\u001b[0m\u001b[0;34m,\u001b[0m\u001b[0mdisc_minimize\u001b[0m\u001b[0;34m]\u001b[0m\u001b[0;34m,\u001b[0m\u001b[0mfeed_dict\u001b[0m \u001b[0;34m=\u001b[0m \u001b[0;34m{\u001b[0m\u001b[0mmodel_input_masked\u001b[0m\u001b[0;34m:\u001b[0m\u001b[0mbatch_masked\u001b[0m\u001b[0;34m,\u001b[0m \u001b[0mmodel_input_gtrue\u001b[0m\u001b[0;34m:\u001b[0m\u001b[0mbatch_true\u001b[0m\u001b[0;34m,\u001b[0m \u001b[0mlearning_rate\u001b[0m\u001b[0;34m:\u001b[0m \u001b[0;36m0.0001\u001b[0m\u001b[0;34m}\u001b[0m\u001b[0;34m)\u001b[0m\u001b[0;34m\u001b[0m\u001b[0;34m\u001b[0m\u001b[0m\n\u001b[0m\u001b[1;32m     16\u001b[0m         \u001b[0mprint\u001b[0m\u001b[0;34m(\u001b[0m\u001b[0;34m\"epoch: \"\u001b[0m\u001b[0;34m+\u001b[0m\u001b[0mstr\u001b[0m\u001b[0;34m(\u001b[0m\u001b[0mtrain_time\u001b[0m\u001b[0;34m)\u001b[0m\u001b[0;34m+\u001b[0m\u001b[0;34m\", g_loss: \"\u001b[0m\u001b[0;34m+\u001b[0m\u001b[0mstr\u001b[0m\u001b[0;34m(\u001b[0m\u001b[0mg_los\u001b[0m\u001b[0;34m)\u001b[0m\u001b[0;34m+\u001b[0m\u001b[0;34m\", d_loss: \"\u001b[0m\u001b[0;34m+\u001b[0m\u001b[0mstr\u001b[0m\u001b[0;34m(\u001b[0m\u001b[0md_los\u001b[0m\u001b[0;34m)\u001b[0m\u001b[0;34m+\u001b[0m\u001b[0;34m\" time_spent:\"\u001b[0m\u001b[0;34m+\u001b[0m\u001b[0mstr\u001b[0m\u001b[0;34m(\u001b[0m\u001b[0mtime\u001b[0m\u001b[0;34m.\u001b[0m\u001b[0mtime\u001b[0m\u001b[0;34m(\u001b[0m\u001b[0;34m)\u001b[0m\u001b[0;34m-\u001b[0m\u001b[0mstart_time\u001b[0m\u001b[0;34m)\u001b[0m\u001b[0;34m+\u001b[0m\u001b[0;34m\"s\"\u001b[0m\u001b[0;34m)\u001b[0m\u001b[0;34m\u001b[0m\u001b[0;34m\u001b[0m\u001b[0m\n\u001b[1;32m     17\u001b[0m         \u001b[0mtrain_time\u001b[0m \u001b[0;34m+=\u001b[0m \u001b[0;36m1\u001b[0m\u001b[0;34m\u001b[0m\u001b[0;34m\u001b[0m\u001b[0m\n",
      "\u001b[0;32m~/anaconda3/lib/python3.6/site-packages/tensorflow/python/client/session.py\u001b[0m in \u001b[0;36mrun\u001b[0;34m(self, fetches, feed_dict, options, run_metadata)\u001b[0m\n\u001b[1;32m    927\u001b[0m     \u001b[0;32mtry\u001b[0m\u001b[0;34m:\u001b[0m\u001b[0;34m\u001b[0m\u001b[0;34m\u001b[0m\u001b[0m\n\u001b[1;32m    928\u001b[0m       result = self._run(None, fetches, feed_dict, options_ptr,\n\u001b[0;32m--> 929\u001b[0;31m                          run_metadata_ptr)\n\u001b[0m\u001b[1;32m    930\u001b[0m       \u001b[0;32mif\u001b[0m \u001b[0mrun_metadata\u001b[0m\u001b[0;34m:\u001b[0m\u001b[0;34m\u001b[0m\u001b[0;34m\u001b[0m\u001b[0m\n\u001b[1;32m    931\u001b[0m         \u001b[0mproto_data\u001b[0m \u001b[0;34m=\u001b[0m \u001b[0mtf_session\u001b[0m\u001b[0;34m.\u001b[0m\u001b[0mTF_GetBuffer\u001b[0m\u001b[0;34m(\u001b[0m\u001b[0mrun_metadata_ptr\u001b[0m\u001b[0;34m)\u001b[0m\u001b[0;34m\u001b[0m\u001b[0;34m\u001b[0m\u001b[0m\n",
      "\u001b[0;32m~/anaconda3/lib/python3.6/site-packages/tensorflow/python/client/session.py\u001b[0m in \u001b[0;36m_run\u001b[0;34m(self, handle, fetches, feed_dict, options, run_metadata)\u001b[0m\n\u001b[1;32m   1150\u001b[0m     \u001b[0;32mif\u001b[0m \u001b[0mfinal_fetches\u001b[0m \u001b[0;32mor\u001b[0m \u001b[0mfinal_targets\u001b[0m \u001b[0;32mor\u001b[0m \u001b[0;34m(\u001b[0m\u001b[0mhandle\u001b[0m \u001b[0;32mand\u001b[0m \u001b[0mfeed_dict_tensor\u001b[0m\u001b[0;34m)\u001b[0m\u001b[0;34m:\u001b[0m\u001b[0;34m\u001b[0m\u001b[0;34m\u001b[0m\u001b[0m\n\u001b[1;32m   1151\u001b[0m       results = self._do_run(handle, final_targets, final_fetches,\n\u001b[0;32m-> 1152\u001b[0;31m                              feed_dict_tensor, options, run_metadata)\n\u001b[0m\u001b[1;32m   1153\u001b[0m     \u001b[0;32melse\u001b[0m\u001b[0;34m:\u001b[0m\u001b[0;34m\u001b[0m\u001b[0;34m\u001b[0m\u001b[0m\n\u001b[1;32m   1154\u001b[0m       \u001b[0mresults\u001b[0m \u001b[0;34m=\u001b[0m \u001b[0;34m[\u001b[0m\u001b[0;34m]\u001b[0m\u001b[0;34m\u001b[0m\u001b[0;34m\u001b[0m\u001b[0m\n",
      "\u001b[0;32m~/anaconda3/lib/python3.6/site-packages/tensorflow/python/client/session.py\u001b[0m in \u001b[0;36m_do_run\u001b[0;34m(self, handle, target_list, fetch_list, feed_dict, options, run_metadata)\u001b[0m\n\u001b[1;32m   1326\u001b[0m     \u001b[0;32mif\u001b[0m \u001b[0mhandle\u001b[0m \u001b[0;32mis\u001b[0m \u001b[0;32mNone\u001b[0m\u001b[0;34m:\u001b[0m\u001b[0;34m\u001b[0m\u001b[0;34m\u001b[0m\u001b[0m\n\u001b[1;32m   1327\u001b[0m       return self._do_call(_run_fn, feeds, fetches, targets, options,\n\u001b[0;32m-> 1328\u001b[0;31m                            run_metadata)\n\u001b[0m\u001b[1;32m   1329\u001b[0m     \u001b[0;32melse\u001b[0m\u001b[0;34m:\u001b[0m\u001b[0;34m\u001b[0m\u001b[0;34m\u001b[0m\u001b[0m\n\u001b[1;32m   1330\u001b[0m       \u001b[0;32mreturn\u001b[0m \u001b[0mself\u001b[0m\u001b[0;34m.\u001b[0m\u001b[0m_do_call\u001b[0m\u001b[0;34m(\u001b[0m\u001b[0m_prun_fn\u001b[0m\u001b[0;34m,\u001b[0m \u001b[0mhandle\u001b[0m\u001b[0;34m,\u001b[0m \u001b[0mfeeds\u001b[0m\u001b[0;34m,\u001b[0m \u001b[0mfetches\u001b[0m\u001b[0;34m)\u001b[0m\u001b[0;34m\u001b[0m\u001b[0;34m\u001b[0m\u001b[0m\n",
      "\u001b[0;32m~/anaconda3/lib/python3.6/site-packages/tensorflow/python/client/session.py\u001b[0m in \u001b[0;36m_do_call\u001b[0;34m(self, fn, *args)\u001b[0m\n\u001b[1;32m   1346\u001b[0m           \u001b[0;32mpass\u001b[0m\u001b[0;34m\u001b[0m\u001b[0;34m\u001b[0m\u001b[0m\n\u001b[1;32m   1347\u001b[0m       \u001b[0mmessage\u001b[0m \u001b[0;34m=\u001b[0m \u001b[0merror_interpolation\u001b[0m\u001b[0;34m.\u001b[0m\u001b[0minterpolate\u001b[0m\u001b[0;34m(\u001b[0m\u001b[0mmessage\u001b[0m\u001b[0;34m,\u001b[0m \u001b[0mself\u001b[0m\u001b[0;34m.\u001b[0m\u001b[0m_graph\u001b[0m\u001b[0;34m)\u001b[0m\u001b[0;34m\u001b[0m\u001b[0;34m\u001b[0m\u001b[0m\n\u001b[0;32m-> 1348\u001b[0;31m       \u001b[0;32mraise\u001b[0m \u001b[0mtype\u001b[0m\u001b[0;34m(\u001b[0m\u001b[0me\u001b[0m\u001b[0;34m)\u001b[0m\u001b[0;34m(\u001b[0m\u001b[0mnode_def\u001b[0m\u001b[0;34m,\u001b[0m \u001b[0mop\u001b[0m\u001b[0;34m,\u001b[0m \u001b[0mmessage\u001b[0m\u001b[0;34m)\u001b[0m\u001b[0;34m\u001b[0m\u001b[0;34m\u001b[0m\u001b[0m\n\u001b[0m\u001b[1;32m   1349\u001b[0m \u001b[0;34m\u001b[0m\u001b[0m\n\u001b[1;32m   1350\u001b[0m   \u001b[0;32mdef\u001b[0m \u001b[0m_extend_graph\u001b[0m\u001b[0;34m(\u001b[0m\u001b[0mself\u001b[0m\u001b[0;34m)\u001b[0m\u001b[0;34m:\u001b[0m\u001b[0;34m\u001b[0m\u001b[0;34m\u001b[0m\u001b[0m\n",
      "\u001b[0;31mAbortedError\u001b[0m: Operation received an exception:Status: 5, message: could not create a view primitive descriptor, in file tensorflow/core/kernels/mkl_slice_op.cc:435\n\t [[node gradients/gene/concat_13_grad/Slice_1 (defined at /home/charlieniu21/code/GANCS/test_model.py:1052) ]]\n\nCaused by op 'gradients/gene/concat_13_grad/Slice_1', defined at:\n  File \"/home/charlieniu21/anaconda3/lib/python3.6/runpy.py\", line 193, in _run_module_as_main\n    \"__main__\", mod_spec)\n  File \"/home/charlieniu21/anaconda3/lib/python3.6/runpy.py\", line 85, in _run_code\n    exec(code, run_globals)\n  File \"/home/charlieniu21/anaconda3/lib/python3.6/site-packages/ipykernel_launcher.py\", line 16, in <module>\n    app.launch_new_instance()\n  File \"/home/charlieniu21/anaconda3/lib/python3.6/site-packages/traitlets/config/application.py\", line 658, in launch_instance\n    app.start()\n  File \"/home/charlieniu21/anaconda3/lib/python3.6/site-packages/ipykernel/kernelapp.py\", line 505, in start\n    self.io_loop.start()\n  File \"/home/charlieniu21/anaconda3/lib/python3.6/site-packages/tornado/platform/asyncio.py\", line 148, in start\n    self.asyncio_loop.run_forever()\n  File \"/home/charlieniu21/anaconda3/lib/python3.6/asyncio/base_events.py\", line 438, in run_forever\n    self._run_once()\n  File \"/home/charlieniu21/anaconda3/lib/python3.6/asyncio/base_events.py\", line 1451, in _run_once\n    handle._run()\n  File \"/home/charlieniu21/anaconda3/lib/python3.6/asyncio/events.py\", line 145, in _run\n    self._callback(*self._args)\n  File \"/home/charlieniu21/anaconda3/lib/python3.6/site-packages/tornado/ioloop.py\", line 690, in <lambda>\n    lambda f: self._run_callback(functools.partial(callback, future))\n  File \"/home/charlieniu21/anaconda3/lib/python3.6/site-packages/tornado/ioloop.py\", line 743, in _run_callback\n    ret = callback()\n  File \"/home/charlieniu21/anaconda3/lib/python3.6/site-packages/tornado/gen.py\", line 781, in inner\n    self.run()\n  File \"/home/charlieniu21/anaconda3/lib/python3.6/site-packages/tornado/gen.py\", line 742, in run\n    yielded = self.gen.send(value)\n  File \"/home/charlieniu21/anaconda3/lib/python3.6/site-packages/ipykernel/kernelbase.py\", line 357, in process_one\n    yield gen.maybe_future(dispatch(*args))\n  File \"/home/charlieniu21/anaconda3/lib/python3.6/site-packages/tornado/gen.py\", line 209, in wrapper\n    yielded = next(result)\n  File \"/home/charlieniu21/anaconda3/lib/python3.6/site-packages/ipykernel/kernelbase.py\", line 267, in dispatch_shell\n    yield gen.maybe_future(handler(stream, idents, msg))\n  File \"/home/charlieniu21/anaconda3/lib/python3.6/site-packages/tornado/gen.py\", line 209, in wrapper\n    yielded = next(result)\n  File \"/home/charlieniu21/anaconda3/lib/python3.6/site-packages/ipykernel/kernelbase.py\", line 534, in execute_request\n    user_expressions, allow_stdin,\n  File \"/home/charlieniu21/anaconda3/lib/python3.6/site-packages/tornado/gen.py\", line 209, in wrapper\n    yielded = next(result)\n  File \"/home/charlieniu21/anaconda3/lib/python3.6/site-packages/ipykernel/ipkernel.py\", line 294, in do_execute\n    res = shell.run_cell(code, store_history=store_history, silent=silent)\n  File \"/home/charlieniu21/anaconda3/lib/python3.6/site-packages/ipykernel/zmqshell.py\", line 536, in run_cell\n    return super(ZMQInteractiveShell, self).run_cell(*args, **kwargs)\n  File \"/home/charlieniu21/anaconda3/lib/python3.6/site-packages/IPython/core/interactiveshell.py\", line 2848, in run_cell\n    raw_cell, store_history, silent, shell_futures)\n  File \"/home/charlieniu21/anaconda3/lib/python3.6/site-packages/IPython/core/interactiveshell.py\", line 2874, in _run_cell\n    return runner(coro)\n  File \"/home/charlieniu21/anaconda3/lib/python3.6/site-packages/IPython/core/async_helpers.py\", line 67, in _pseudo_sync_runner\n    coro.send(None)\n  File \"/home/charlieniu21/anaconda3/lib/python3.6/site-packages/IPython/core/interactiveshell.py\", line 3049, in run_cell_async\n    interactivity=interactivity, compiler=compiler, result=result)\n  File \"/home/charlieniu21/anaconda3/lib/python3.6/site-packages/IPython/core/interactiveshell.py\", line 3214, in run_ast_nodes\n    if (yield from self.run_code(code, result)):\n  File \"/home/charlieniu21/anaconda3/lib/python3.6/site-packages/IPython/core/interactiveshell.py\", line 3296, in run_code\n    exec(code_obj, self.user_global_ns, self.user_ns)\n  File \"<ipython-input-13-a5cd86dacc9c>\", line 12, in <module>\n    global_step, learning_rate, gene_minimize, disc_minimize = tm.create_optimizers(gene_loss, gene_var_list,disc_loss, disc_var_list)\n  File \"/home/charlieniu21/code/GANCS/test_model.py\", line 1052, in create_optimizers\n    gene_minimize = gene_opti.minimize(gene_loss, var_list=gene_var_list, name='gene_loss_minimize', global_step=global_step)\n  File \"/home/charlieniu21/anaconda3/lib/python3.6/site-packages/tensorflow/python/training/optimizer.py\", line 403, in minimize\n    grad_loss=grad_loss)\n  File \"/home/charlieniu21/anaconda3/lib/python3.6/site-packages/tensorflow/python/training/optimizer.py\", line 512, in compute_gradients\n    colocate_gradients_with_ops=colocate_gradients_with_ops)\n  File \"/home/charlieniu21/anaconda3/lib/python3.6/site-packages/tensorflow/python/ops/gradients_impl.py\", line 664, in gradients\n    unconnected_gradients)\n  File \"/home/charlieniu21/anaconda3/lib/python3.6/site-packages/tensorflow/python/ops/gradients_impl.py\", line 965, in _GradientsHelper\n    lambda: grad_fn(op, *out_grads))\n  File \"/home/charlieniu21/anaconda3/lib/python3.6/site-packages/tensorflow/python/ops/gradients_impl.py\", line 420, in _MaybeCompile\n    return grad_fn()  # Exit early\n  File \"/home/charlieniu21/anaconda3/lib/python3.6/site-packages/tensorflow/python/ops/gradients_impl.py\", line 965, in <lambda>\n    lambda: grad_fn(op, *out_grads))\n  File \"/home/charlieniu21/anaconda3/lib/python3.6/site-packages/tensorflow/python/ops/array_grad.py\", line 222, in _ConcatGradV2\n    op, grad, start_value_index=0, end_value_index=-1, dim_index=-1)\n  File \"/home/charlieniu21/anaconda3/lib/python3.6/site-packages/tensorflow/python/ops/array_grad.py\", line 150, in _ConcatGradHelper\n    out_grads.append(array_ops.slice(grad, begin, size))\n  File \"/home/charlieniu21/anaconda3/lib/python3.6/site-packages/tensorflow/python/ops/array_ops.py\", line 707, in slice\n    return gen_array_ops._slice(input_, begin, size, name=name)\n  File \"/home/charlieniu21/anaconda3/lib/python3.6/site-packages/tensorflow/python/ops/gen_array_ops.py\", line 8236, in _slice\n    \"Slice\", input=input, begin=begin, size=size, name=name)\n  File \"/home/charlieniu21/anaconda3/lib/python3.6/site-packages/tensorflow/python/framework/op_def_library.py\", line 788, in _apply_op_helper\n    op_def=op_def)\n  File \"/home/charlieniu21/anaconda3/lib/python3.6/site-packages/tensorflow/python/util/deprecation.py\", line 507, in new_func\n    return func(*args, **kwargs)\n  File \"/home/charlieniu21/anaconda3/lib/python3.6/site-packages/tensorflow/python/framework/ops.py\", line 3300, in create_op\n    op_def=op_def)\n  File \"/home/charlieniu21/anaconda3/lib/python3.6/site-packages/tensorflow/python/framework/ops.py\", line 1801, in __init__\n    self._traceback = tf_stack.extract_stack()\n\n...which was originally created as op 'gene/concat_13', defined at:\n  File \"/home/charlieniu21/anaconda3/lib/python3.6/runpy.py\", line 193, in _run_module_as_main\n    \"__main__\", mod_spec)\n[elided 25 identical lines from previous traceback]\n  File \"/home/charlieniu21/anaconda3/lib/python3.6/site-packages/IPython/core/interactiveshell.py\", line 3296, in run_code\n    exec(code_obj, self.user_global_ns, self.user_ns)\n  File \"<ipython-input-13-a5cd86dacc9c>\", line 4, in <module>\n    gene_output, gene_output_complex, gene_var_list, gene_layers, disc_real_output, disc_fake_output, disc_var_list, disc_layers = tm.create_model(sess, model_input_masked, model_input_gtrue, mask)\n  File \"/home/charlieniu21/code/GANCS/test_model.py\", line 810, in create_model\n    gene_output_14, _ , gene_layers_14 = function_generator(sess, gene_output_13, labels, masks, 2)\n  File \"/home/charlieniu21/code/GANCS/test_model.py\", line 765, in <lambda>\n    num_dc_layers=1, layer_output_skip=7)\n  File \"/home/charlieniu21/code/GANCS/test_model.py\", line 719, in _generator_model_with_scale\n    corrected_real_concat = tf.concat([corrected_real, corrected_imag], axis=3)\n  File \"/home/charlieniu21/anaconda3/lib/python3.6/site-packages/tensorflow/python/util/dispatch.py\", line 180, in wrapper\n    return target(*args, **kwargs)\n  File \"/home/charlieniu21/anaconda3/lib/python3.6/site-packages/tensorflow/python/ops/array_ops.py\", line 1256, in concat\n    return gen_array_ops.concat_v2(values=values, axis=axis, name=name)\n  File \"/home/charlieniu21/anaconda3/lib/python3.6/site-packages/tensorflow/python/ops/gen_array_ops.py\", line 1149, in concat_v2\n    \"ConcatV2\", values=values, axis=axis, name=name)\n  File \"/home/charlieniu21/anaconda3/lib/python3.6/site-packages/tensorflow/python/framework/op_def_library.py\", line 788, in _apply_op_helper\n    op_def=op_def)\n  File \"/home/charlieniu21/anaconda3/lib/python3.6/site-packages/tensorflow/python/util/deprecation.py\", line 507, in new_func\n    return func(*args, **kwargs)\n  File \"/home/charlieniu21/anaconda3/lib/python3.6/site-packages/tensorflow/python/framework/ops.py\", line 3300, in create_op\n    op_def=op_def)\n  File \"/home/charlieniu21/anaconda3/lib/python3.6/site-packages/tensorflow/python/framework/ops.py\", line 1801, in __init__\n    self._traceback = tf_stack.extract_stack()\n\nAbortedError (see above for traceback): Operation received an exception:Status: 5, message: could not create a view primitive descriptor, in file tensorflow/core/kernels/mkl_slice_op.cc:435\n\t [[node gradients/gene/concat_13_grad/Slice_1 (defined at /home/charlieniu21/code/GANCS/test_model.py:1052) ]]\n"
     ]
    }
   ],
   "source": [
    "g_log, d_log = train_process(epochs = 5)"
   ]
  },
  {
   "cell_type": "code",
   "execution_count": 19,
   "metadata": {},
   "outputs": [
    {
     "data": {
      "text/plain": [
       "(100, 28, 28, 2)"
      ]
     },
     "execution_count": 19,
     "metadata": {},
     "output_type": "execute_result"
    }
   ],
   "source": [
    "masked.shape"
   ]
  },
  {
   "cell_type": "code",
   "execution_count": 18,
   "metadata": {},
   "outputs": [
    {
     "data": {
      "text/plain": [
       "[<tf.Variable 'gene/GEN_L013/bias:0' shape=(64,) dtype=float32_ref>,\n",
       " <tf.Variable 'gene/GEN_L010/bias:0' shape=(64,) dtype=float32_ref>,\n",
       " <tf.Variable 'gene/GEN_L004/BatchNorm/moving_mean:0' shape=(64,) dtype=float32_ref>,\n",
       " <tf.Variable 'gene/GEN_L004/BatchNorm/moving_variance:0' shape=(64,) dtype=float32_ref>,\n",
       " <tf.Variable 'gene/GEN_L021/bias:0' shape=(2,) dtype=float32_ref>,\n",
       " <tf.Variable 'gene/GEN_L013/weight:0' shape=(3, 3, 64, 64) dtype=float32_ref>,\n",
       " <tf.Variable 'gene/GEN_L004/BatchNorm/beta:0' shape=(64,) dtype=float32_ref>,\n",
       " <tf.Variable 'gene/GEN_L007/BatchNorm/moving_variance:0' shape=(64,) dtype=float32_ref>,\n",
       " <tf.Variable 'gene/GEN_L006/bias:0' shape=(64,) dtype=float32_ref>,\n",
       " <tf.Variable 'gene/GEN_L007/BatchNorm/moving_mean:0' shape=(64,) dtype=float32_ref>,\n",
       " <tf.Variable 'gene/GEN_L002/bias:0' shape=(64,) dtype=float32_ref>,\n",
       " <tf.Variable 'gene/GEN_L007/BatchNorm/beta:0' shape=(64,) dtype=float32_ref>,\n",
       " <tf.Variable 'gene/GEN_L017/weight:0' shape=(3, 3, 64, 64) dtype=float32_ref>,\n",
       " <tf.Variable 'gene/GEN_L017/bias:0' shape=(64,) dtype=float32_ref>,\n",
       " <tf.Variable 'gene/GEN_L014/BatchNorm/moving_variance:0' shape=(64,) dtype=float32_ref>,\n",
       " <tf.Variable 'gene/GEN_L014/BatchNorm/moving_mean:0' shape=(64,) dtype=float32_ref>,\n",
       " <tf.Variable 'gene/GEN_L003/weight:0' shape=(3, 3, 64, 64) dtype=float32_ref>,\n",
       " <tf.Variable 'gene/GEN_L014/BatchNorm/beta:0' shape=(64,) dtype=float32_ref>,\n",
       " <tf.Variable 'gene/GEN_L011/BatchNorm/moving_variance:0' shape=(64,) dtype=float32_ref>,\n",
       " <tf.Variable 'gene/GEN_L011/BatchNorm/moving_mean:0' shape=(64,) dtype=float32_ref>,\n",
       " <tf.Variable 'gene/GEN_L021/weight:0' shape=(1, 1, 64, 2) dtype=float32_ref>,\n",
       " <tf.Variable 'gene/GEN_L011/BatchNorm/beta:0' shape=(64,) dtype=float32_ref>,\n",
       " <tf.Variable 'gene/GEN_L006/weight:0' shape=(3, 3, 64, 64) dtype=float32_ref>,\n",
       " <tf.Variable 'gene/GEN_L002/weight:0' shape=(1, 1, 2, 64) dtype=float32_ref>,\n",
       " <tf.Variable 'gene/GEN_L019/weight:0' shape=(1, 1, 64, 64) dtype=float32_ref>,\n",
       " <tf.Variable 'gene/GEN_L003/bias:0' shape=(64,) dtype=float32_ref>,\n",
       " <tf.Variable 'gene/GEN_L010/weight:0' shape=(3, 3, 64, 64) dtype=float32_ref>,\n",
       " <tf.Variable 'gene/GEN_L019/bias:0' shape=(64,) dtype=float32_ref>]"
      ]
     },
     "execution_count": 18,
     "metadata": {},
     "output_type": "execute_result"
    }
   ],
   "source": [
    "gene_var_list"
   ]
  },
  {
   "cell_type": "code",
   "execution_count": 19,
   "metadata": {},
   "outputs": [
    {
     "data": {
      "text/plain": [
       "[<tf.Variable 'gene/GEN_L002/weight:0' shape=(1, 1, 2, 64) dtype=float32_ref>,\n",
       " <tf.Variable 'gene/GEN_L002/bias:0' shape=(64,) dtype=float32_ref>,\n",
       " <tf.Variable 'gene/GEN_L003/weight:0' shape=(3, 3, 64, 64) dtype=float32_ref>,\n",
       " <tf.Variable 'gene/GEN_L003/bias:0' shape=(64,) dtype=float32_ref>,\n",
       " <tf.Variable 'gene/GEN_L004/BatchNorm/beta:0' shape=(64,) dtype=float32_ref>,\n",
       " <tf.Variable 'gene/GEN_L004/BatchNorm/moving_mean:0' shape=(64,) dtype=float32_ref>,\n",
       " <tf.Variable 'gene/GEN_L004/BatchNorm/moving_variance:0' shape=(64,) dtype=float32_ref>,\n",
       " <tf.Variable 'gene/GEN_L006/weight:0' shape=(3, 3, 64, 64) dtype=float32_ref>,\n",
       " <tf.Variable 'gene/GEN_L006/bias:0' shape=(64,) dtype=float32_ref>,\n",
       " <tf.Variable 'gene/GEN_L007/BatchNorm/beta:0' shape=(64,) dtype=float32_ref>,\n",
       " <tf.Variable 'gene/GEN_L007/BatchNorm/moving_mean:0' shape=(64,) dtype=float32_ref>,\n",
       " <tf.Variable 'gene/GEN_L007/BatchNorm/moving_variance:0' shape=(64,) dtype=float32_ref>,\n",
       " <tf.Variable 'gene/GEN_L010/weight:0' shape=(3, 3, 64, 64) dtype=float32_ref>,\n",
       " <tf.Variable 'gene/GEN_L010/bias:0' shape=(64,) dtype=float32_ref>,\n",
       " <tf.Variable 'gene/GEN_L011/BatchNorm/beta:0' shape=(64,) dtype=float32_ref>,\n",
       " <tf.Variable 'gene/GEN_L011/BatchNorm/moving_mean:0' shape=(64,) dtype=float32_ref>,\n",
       " <tf.Variable 'gene/GEN_L011/BatchNorm/moving_variance:0' shape=(64,) dtype=float32_ref>,\n",
       " <tf.Variable 'gene/GEN_L013/weight:0' shape=(3, 3, 64, 64) dtype=float32_ref>,\n",
       " <tf.Variable 'gene/GEN_L013/bias:0' shape=(64,) dtype=float32_ref>,\n",
       " <tf.Variable 'gene/GEN_L014/BatchNorm/beta:0' shape=(64,) dtype=float32_ref>,\n",
       " <tf.Variable 'gene/GEN_L014/BatchNorm/moving_mean:0' shape=(64,) dtype=float32_ref>,\n",
       " <tf.Variable 'gene/GEN_L014/BatchNorm/moving_variance:0' shape=(64,) dtype=float32_ref>,\n",
       " <tf.Variable 'gene/GEN_L017/weight:0' shape=(3, 3, 64, 64) dtype=float32_ref>,\n",
       " <tf.Variable 'gene/GEN_L017/bias:0' shape=(64,) dtype=float32_ref>,\n",
       " <tf.Variable 'gene/GEN_L019/weight:0' shape=(1, 1, 64, 64) dtype=float32_ref>,\n",
       " <tf.Variable 'gene/GEN_L019/bias:0' shape=(64,) dtype=float32_ref>,\n",
       " <tf.Variable 'gene/GEN_L021/weight:0' shape=(1, 1, 64, 2) dtype=float32_ref>,\n",
       " <tf.Variable 'gene/GEN_L021/bias:0' shape=(2,) dtype=float32_ref>,\n",
       " <tf.Variable 'disc/DIS_L002/weight:0' shape=(3, 3, 1, 8) dtype=float32_ref>,\n",
       " <tf.Variable 'disc/DIS_L002/bias:0' shape=(8,) dtype=float32_ref>,\n",
       " <tf.Variable 'disc/DIS_L003/BatchNorm/beta:0' shape=(8,) dtype=float32_ref>,\n",
       " <tf.Variable 'disc/DIS_L003/BatchNorm/moving_mean:0' shape=(8,) dtype=float32_ref>,\n",
       " <tf.Variable 'disc/DIS_L003/BatchNorm/moving_variance:0' shape=(8,) dtype=float32_ref>,\n",
       " <tf.Variable 'disc/DIS_L005/weight:0' shape=(3, 3, 8, 16) dtype=float32_ref>,\n",
       " <tf.Variable 'disc/DIS_L005/bias:0' shape=(16,) dtype=float32_ref>,\n",
       " <tf.Variable 'disc/DIS_L006/BatchNorm/beta:0' shape=(16,) dtype=float32_ref>,\n",
       " <tf.Variable 'disc/DIS_L006/BatchNorm/moving_mean:0' shape=(16,) dtype=float32_ref>,\n",
       " <tf.Variable 'disc/DIS_L006/BatchNorm/moving_variance:0' shape=(16,) dtype=float32_ref>,\n",
       " <tf.Variable 'disc/DIS_L008/weight:0' shape=(3, 3, 16, 32) dtype=float32_ref>,\n",
       " <tf.Variable 'disc/DIS_L008/bias:0' shape=(32,) dtype=float32_ref>,\n",
       " <tf.Variable 'disc/DIS_L009/BatchNorm/beta:0' shape=(32,) dtype=float32_ref>,\n",
       " <tf.Variable 'disc/DIS_L009/BatchNorm/moving_mean:0' shape=(32,) dtype=float32_ref>,\n",
       " <tf.Variable 'disc/DIS_L009/BatchNorm/moving_variance:0' shape=(32,) dtype=float32_ref>,\n",
       " <tf.Variable 'disc/DIS_L011/weight:0' shape=(3, 3, 32, 64) dtype=float32_ref>,\n",
       " <tf.Variable 'disc/DIS_L011/bias:0' shape=(64,) dtype=float32_ref>,\n",
       " <tf.Variable 'disc/DIS_L012/BatchNorm/beta:0' shape=(64,) dtype=float32_ref>,\n",
       " <tf.Variable 'disc/DIS_L012/BatchNorm/moving_mean:0' shape=(64,) dtype=float32_ref>,\n",
       " <tf.Variable 'disc/DIS_L012/BatchNorm/moving_variance:0' shape=(64,) dtype=float32_ref>,\n",
       " <tf.Variable 'disc/DIS_L014/weight:0' shape=(3, 3, 64, 64) dtype=float32_ref>,\n",
       " <tf.Variable 'disc/DIS_L014/bias:0' shape=(64,) dtype=float32_ref>,\n",
       " <tf.Variable 'disc/DIS_L015/BatchNorm/beta:0' shape=(64,) dtype=float32_ref>,\n",
       " <tf.Variable 'disc/DIS_L015/BatchNorm/moving_mean:0' shape=(64,) dtype=float32_ref>,\n",
       " <tf.Variable 'disc/DIS_L015/BatchNorm/moving_variance:0' shape=(64,) dtype=float32_ref>,\n",
       " <tf.Variable 'disc/DIS_L017/weight:0' shape=(1, 1, 64, 64) dtype=float32_ref>,\n",
       " <tf.Variable 'disc/DIS_L017/bias:0' shape=(64,) dtype=float32_ref>,\n",
       " <tf.Variable 'disc/DIS_L018/BatchNorm/beta:0' shape=(64,) dtype=float32_ref>,\n",
       " <tf.Variable 'disc/DIS_L018/BatchNorm/moving_mean:0' shape=(64,) dtype=float32_ref>,\n",
       " <tf.Variable 'disc/DIS_L018/BatchNorm/moving_variance:0' shape=(64,) dtype=float32_ref>,\n",
       " <tf.Variable 'disc/DIS_L020/weight:0' shape=(1, 1, 64, 1) dtype=float32_ref>,\n",
       " <tf.Variable 'disc/DIS_L020/bias:0' shape=(1,) dtype=float32_ref>,\n",
       " <tf.Variable 'global_step:0' shape=() dtype=int64_ref>,\n",
       " <tf.Variable 'beta1_power:0' shape=() dtype=float32_ref>,\n",
       " <tf.Variable 'beta2_power:0' shape=() dtype=float32_ref>,\n",
       " <tf.Variable 'gene/GEN_L013/bias/gene_optimizer:0' shape=(64,) dtype=float32_ref>,\n",
       " <tf.Variable 'gene/GEN_L013/bias/gene_optimizer_1:0' shape=(64,) dtype=float32_ref>,\n",
       " <tf.Variable 'gene/GEN_L010/bias/gene_optimizer:0' shape=(64,) dtype=float32_ref>,\n",
       " <tf.Variable 'gene/GEN_L010/bias/gene_optimizer_1:0' shape=(64,) dtype=float32_ref>,\n",
       " <tf.Variable 'gene/GEN_L021/bias/gene_optimizer:0' shape=(2,) dtype=float32_ref>,\n",
       " <tf.Variable 'gene/GEN_L021/bias/gene_optimizer_1:0' shape=(2,) dtype=float32_ref>,\n",
       " <tf.Variable 'gene/GEN_L013/weight/gene_optimizer:0' shape=(3, 3, 64, 64) dtype=float32_ref>,\n",
       " <tf.Variable 'gene/GEN_L013/weight/gene_optimizer_1:0' shape=(3, 3, 64, 64) dtype=float32_ref>,\n",
       " <tf.Variable 'gene/GEN_L004/BatchNorm/beta/gene_optimizer:0' shape=(64,) dtype=float32_ref>,\n",
       " <tf.Variable 'gene/GEN_L004/BatchNorm/beta/gene_optimizer_1:0' shape=(64,) dtype=float32_ref>,\n",
       " <tf.Variable 'gene/GEN_L006/bias/gene_optimizer:0' shape=(64,) dtype=float32_ref>,\n",
       " <tf.Variable 'gene/GEN_L006/bias/gene_optimizer_1:0' shape=(64,) dtype=float32_ref>,\n",
       " <tf.Variable 'gene/GEN_L002/bias/gene_optimizer:0' shape=(64,) dtype=float32_ref>,\n",
       " <tf.Variable 'gene/GEN_L002/bias/gene_optimizer_1:0' shape=(64,) dtype=float32_ref>,\n",
       " <tf.Variable 'gene/GEN_L007/BatchNorm/beta/gene_optimizer:0' shape=(64,) dtype=float32_ref>,\n",
       " <tf.Variable 'gene/GEN_L007/BatchNorm/beta/gene_optimizer_1:0' shape=(64,) dtype=float32_ref>,\n",
       " <tf.Variable 'gene/GEN_L017/weight/gene_optimizer:0' shape=(3, 3, 64, 64) dtype=float32_ref>,\n",
       " <tf.Variable 'gene/GEN_L017/weight/gene_optimizer_1:0' shape=(3, 3, 64, 64) dtype=float32_ref>,\n",
       " <tf.Variable 'gene/GEN_L017/bias/gene_optimizer:0' shape=(64,) dtype=float32_ref>,\n",
       " <tf.Variable 'gene/GEN_L017/bias/gene_optimizer_1:0' shape=(64,) dtype=float32_ref>,\n",
       " <tf.Variable 'gene/GEN_L003/weight/gene_optimizer:0' shape=(3, 3, 64, 64) dtype=float32_ref>,\n",
       " <tf.Variable 'gene/GEN_L003/weight/gene_optimizer_1:0' shape=(3, 3, 64, 64) dtype=float32_ref>,\n",
       " <tf.Variable 'gene/GEN_L014/BatchNorm/beta/gene_optimizer:0' shape=(64,) dtype=float32_ref>,\n",
       " <tf.Variable 'gene/GEN_L014/BatchNorm/beta/gene_optimizer_1:0' shape=(64,) dtype=float32_ref>,\n",
       " <tf.Variable 'gene/GEN_L021/weight/gene_optimizer:0' shape=(1, 1, 64, 2) dtype=float32_ref>,\n",
       " <tf.Variable 'gene/GEN_L021/weight/gene_optimizer_1:0' shape=(1, 1, 64, 2) dtype=float32_ref>,\n",
       " <tf.Variable 'gene/GEN_L011/BatchNorm/beta/gene_optimizer:0' shape=(64,) dtype=float32_ref>,\n",
       " <tf.Variable 'gene/GEN_L011/BatchNorm/beta/gene_optimizer_1:0' shape=(64,) dtype=float32_ref>,\n",
       " <tf.Variable 'gene/GEN_L006/weight/gene_optimizer:0' shape=(3, 3, 64, 64) dtype=float32_ref>,\n",
       " <tf.Variable 'gene/GEN_L006/weight/gene_optimizer_1:0' shape=(3, 3, 64, 64) dtype=float32_ref>,\n",
       " <tf.Variable 'gene/GEN_L002/weight/gene_optimizer:0' shape=(1, 1, 2, 64) dtype=float32_ref>,\n",
       " <tf.Variable 'gene/GEN_L002/weight/gene_optimizer_1:0' shape=(1, 1, 2, 64) dtype=float32_ref>,\n",
       " <tf.Variable 'gene/GEN_L019/weight/gene_optimizer:0' shape=(1, 1, 64, 64) dtype=float32_ref>,\n",
       " <tf.Variable 'gene/GEN_L019/weight/gene_optimizer_1:0' shape=(1, 1, 64, 64) dtype=float32_ref>,\n",
       " <tf.Variable 'gene/GEN_L003/bias/gene_optimizer:0' shape=(64,) dtype=float32_ref>,\n",
       " <tf.Variable 'gene/GEN_L003/bias/gene_optimizer_1:0' shape=(64,) dtype=float32_ref>,\n",
       " <tf.Variable 'gene/GEN_L010/weight/gene_optimizer:0' shape=(3, 3, 64, 64) dtype=float32_ref>,\n",
       " <tf.Variable 'gene/GEN_L010/weight/gene_optimizer_1:0' shape=(3, 3, 64, 64) dtype=float32_ref>,\n",
       " <tf.Variable 'gene/GEN_L019/bias/gene_optimizer:0' shape=(64,) dtype=float32_ref>,\n",
       " <tf.Variable 'gene/GEN_L019/bias/gene_optimizer_1:0' shape=(64,) dtype=float32_ref>,\n",
       " <tf.Variable 'beta1_power_1:0' shape=() dtype=float32_ref>,\n",
       " <tf.Variable 'beta2_power_1:0' shape=() dtype=float32_ref>,\n",
       " <tf.Variable 'disc/DIS_L002/weight/disc_optimizer:0' shape=(3, 3, 1, 8) dtype=float32_ref>,\n",
       " <tf.Variable 'disc/DIS_L002/weight/disc_optimizer_1:0' shape=(3, 3, 1, 8) dtype=float32_ref>,\n",
       " <tf.Variable 'disc/DIS_L003/BatchNorm/beta/disc_optimizer:0' shape=(8,) dtype=float32_ref>,\n",
       " <tf.Variable 'disc/DIS_L003/BatchNorm/beta/disc_optimizer_1:0' shape=(8,) dtype=float32_ref>,\n",
       " <tf.Variable 'disc/DIS_L018/BatchNorm/beta/disc_optimizer:0' shape=(64,) dtype=float32_ref>,\n",
       " <tf.Variable 'disc/DIS_L018/BatchNorm/beta/disc_optimizer_1:0' shape=(64,) dtype=float32_ref>,\n",
       " <tf.Variable 'disc/DIS_L011/bias/disc_optimizer:0' shape=(64,) dtype=float32_ref>,\n",
       " <tf.Variable 'disc/DIS_L011/bias/disc_optimizer_1:0' shape=(64,) dtype=float32_ref>,\n",
       " <tf.Variable 'disc/DIS_L005/bias/disc_optimizer:0' shape=(16,) dtype=float32_ref>,\n",
       " <tf.Variable 'disc/DIS_L005/bias/disc_optimizer_1:0' shape=(16,) dtype=float32_ref>,\n",
       " <tf.Variable 'disc/DIS_L012/BatchNorm/beta/disc_optimizer:0' shape=(64,) dtype=float32_ref>,\n",
       " <tf.Variable 'disc/DIS_L012/BatchNorm/beta/disc_optimizer_1:0' shape=(64,) dtype=float32_ref>,\n",
       " <tf.Variable 'disc/DIS_L014/bias/disc_optimizer:0' shape=(64,) dtype=float32_ref>,\n",
       " <tf.Variable 'disc/DIS_L014/bias/disc_optimizer_1:0' shape=(64,) dtype=float32_ref>,\n",
       " <tf.Variable 'disc/DIS_L006/BatchNorm/beta/disc_optimizer:0' shape=(16,) dtype=float32_ref>,\n",
       " <tf.Variable 'disc/DIS_L006/BatchNorm/beta/disc_optimizer_1:0' shape=(16,) dtype=float32_ref>,\n",
       " <tf.Variable 'disc/DIS_L014/weight/disc_optimizer:0' shape=(3, 3, 64, 64) dtype=float32_ref>,\n",
       " <tf.Variable 'disc/DIS_L014/weight/disc_optimizer_1:0' shape=(3, 3, 64, 64) dtype=float32_ref>,\n",
       " <tf.Variable 'disc/DIS_L008/weight/disc_optimizer:0' shape=(3, 3, 16, 32) dtype=float32_ref>,\n",
       " <tf.Variable 'disc/DIS_L008/weight/disc_optimizer_1:0' shape=(3, 3, 16, 32) dtype=float32_ref>,\n",
       " <tf.Variable 'disc/DIS_L005/weight/disc_optimizer:0' shape=(3, 3, 8, 16) dtype=float32_ref>,\n",
       " <tf.Variable 'disc/DIS_L005/weight/disc_optimizer_1:0' shape=(3, 3, 8, 16) dtype=float32_ref>,\n",
       " <tf.Variable 'disc/DIS_L015/BatchNorm/beta/disc_optimizer:0' shape=(64,) dtype=float32_ref>,\n",
       " <tf.Variable 'disc/DIS_L015/BatchNorm/beta/disc_optimizer_1:0' shape=(64,) dtype=float32_ref>,\n",
       " <tf.Variable 'disc/DIS_L020/weight/disc_optimizer:0' shape=(1, 1, 64, 1) dtype=float32_ref>,\n",
       " <tf.Variable 'disc/DIS_L020/weight/disc_optimizer_1:0' shape=(1, 1, 64, 1) dtype=float32_ref>,\n",
       " <tf.Variable 'disc/DIS_L017/bias/disc_optimizer:0' shape=(64,) dtype=float32_ref>,\n",
       " <tf.Variable 'disc/DIS_L017/bias/disc_optimizer_1:0' shape=(64,) dtype=float32_ref>,\n",
       " <tf.Variable 'disc/DIS_L011/weight/disc_optimizer:0' shape=(3, 3, 32, 64) dtype=float32_ref>,\n",
       " <tf.Variable 'disc/DIS_L011/weight/disc_optimizer_1:0' shape=(3, 3, 32, 64) dtype=float32_ref>,\n",
       " <tf.Variable 'disc/DIS_L020/bias/disc_optimizer:0' shape=(1,) dtype=float32_ref>,\n",
       " <tf.Variable 'disc/DIS_L020/bias/disc_optimizer_1:0' shape=(1,) dtype=float32_ref>,\n",
       " <tf.Variable 'disc/DIS_L008/bias/disc_optimizer:0' shape=(32,) dtype=float32_ref>,\n",
       " <tf.Variable 'disc/DIS_L008/bias/disc_optimizer_1:0' shape=(32,) dtype=float32_ref>,\n",
       " <tf.Variable 'disc/DIS_L002/bias/disc_optimizer:0' shape=(8,) dtype=float32_ref>,\n",
       " <tf.Variable 'disc/DIS_L002/bias/disc_optimizer_1:0' shape=(8,) dtype=float32_ref>,\n",
       " <tf.Variable 'disc/DIS_L017/weight/disc_optimizer:0' shape=(1, 1, 64, 64) dtype=float32_ref>,\n",
       " <tf.Variable 'disc/DIS_L017/weight/disc_optimizer_1:0' shape=(1, 1, 64, 64) dtype=float32_ref>,\n",
       " <tf.Variable 'disc/DIS_L009/BatchNorm/beta/disc_optimizer:0' shape=(32,) dtype=float32_ref>,\n",
       " <tf.Variable 'disc/DIS_L009/BatchNorm/beta/disc_optimizer_1:0' shape=(32,) dtype=float32_ref>]"
      ]
     },
     "execution_count": 19,
     "metadata": {},
     "output_type": "execute_result"
    }
   ],
   "source": [
    "tf.global_variables()"
   ]
  },
  {
   "cell_type": "code",
   "execution_count": null,
   "metadata": {},
   "outputs": [],
   "source": []
  }
 ],
 "metadata": {
  "kernelspec": {
   "display_name": "Python 3",
   "language": "python",
   "name": "python3"
  },
  "language_info": {
   "codemirror_mode": {
    "name": "ipython",
    "version": 3
   },
   "file_extension": ".py",
   "mimetype": "text/x-python",
   "name": "python",
   "nbconvert_exporter": "python",
   "pygments_lexer": "ipython3",
   "version": "3.6.8"
  }
 },
 "nbformat": 4,
 "nbformat_minor": 2
}
