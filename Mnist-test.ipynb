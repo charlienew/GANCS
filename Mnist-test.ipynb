{
 "cells": [
  {
   "cell_type": "code",
   "execution_count": 1,
   "metadata": {},
   "outputs": [],
   "source": [
    "import tensorflow as tf\n",
    "import test_model as tm\n",
    "import numpy as np\n",
    "import math \n",
    "import matplotlib.pyplot as plt\n",
    "%matplotlib inline"
   ]
  },
  {
   "cell_type": "code",
   "execution_count": 2,
   "metadata": {},
   "outputs": [
    {
     "name": "stdout",
     "output_type": "stream",
     "text": [
      "1.10.0\n"
     ]
    }
   ],
   "source": [
    "print(tf.VERSION) # seems to work fine with tf version 1.10, but failed with tf 1.13"
   ]
  },
  {
   "cell_type": "markdown",
   "metadata": {},
   "source": [
    "preparing mask"
   ]
  },
  {
   "cell_type": "code",
   "execution_count": 3,
   "metadata": {},
   "outputs": [
    {
     "name": "stdout",
     "output_type": "stream",
     "text": [
      "gen mask for R-factor=3.5000\n",
      "3.5 (array([ 0,  1,  2,  3,  4,  5,  6,  7,  8,  9, 10, 11, 12, 13, 14, 15, 16,\n",
      "       17, 18, 19, 20, 21, 22, 23, 24, 25, 26, 27]),)\n"
     ]
    }
   ],
   "source": [
    "def getMask(size=[128,128], porder = 5.0, bias = 0.1, acs = 3, seed = 0, axis_undersample=1, mute=0):\n",
    "    # init\n",
    "    mask = np.zeros(size)\n",
    "    np.random.seed(seed)\n",
    "    # gen random mask\n",
    "    for i in range(size[1]):\n",
    "        x = (i-size[1]/2.0)/(size[1]/2.0)\n",
    "        p = np.random.rand() \n",
    "        if p <= abs(x)**porder + bias:\n",
    "            if axis_undersample == 0:\n",
    "                mask[i][:]=1\n",
    "            else:\n",
    "                mask[:][i]=1\n",
    "    # acs                \n",
    "    if axis_undersample == 0:\n",
    "        mask[:int((acs+1)/2)][:]=1\n",
    "        mask[-int(acs/2):][:]=1\n",
    "    else:\n",
    "        mask[:][:int((acs+1)/2)]=1\n",
    "        mask[:][-int(acs/2):]=1\n",
    "\n",
    "    # compute reduction\n",
    "    r_factor = len(mask.flatten())/sum(mask.flatten())\n",
    "    if not mute:\n",
    "        print('gen mask for R-factor={0:.4f}'.format(r_factor))\n",
    "\n",
    "    # use tf\n",
    "    return mask, r_factor\n",
    "\n",
    "mask, r_factor = getMask(size=[28,28], porder=5, acs = 3)\n",
    "print(r_factor, np.where(mask[0,:]))"
   ]
  },
  {
   "cell_type": "code",
   "execution_count": 4,
   "metadata": {},
   "outputs": [
    {
     "data": {
      "text/plain": [
       "<matplotlib.image.AxesImage at 0x7f16d831b6d8>"
      ]
     },
     "execution_count": 4,
     "metadata": {},
     "output_type": "execute_result"
    },
    {
     "data": {
      "image/png": "[encoded data removed]",
      "text/plain": [
       "<Figure size 432x288 with 1 Axes>"
      ]
     },
     "metadata": {
      "needs_background": "light"
     },
     "output_type": "display_data"
    }
   ],
   "source": [
    "plt.imshow(mask, cmap = \"gray\")"
   ]
  },
  {
   "cell_type": "markdown",
   "metadata": {},
   "source": [
    "get training data--mnist dataset"
   ]
  },
  {
   "cell_type": "code",
   "execution_count": 5,
   "metadata": {},
   "outputs": [],
   "source": [
    "((train_data, train_labels),\n",
    " (eval_data, eval_labels)) = tf.keras.datasets.mnist.load_data()\n",
    "train_data = train_data/np.float32(255)\n",
    "eval_data = eval_data/np.float32(255)\n",
    "mask = np.reshape(mask, [1, 28, 28])"
   ]
  },
  {
   "cell_type": "code",
   "execution_count": 6,
   "metadata": {},
   "outputs": [],
   "source": [
    "def get_batch(size = 100):\n",
    "    batch_loc = np.random.randint(60000, size=size)\n",
    "    train_bat_im = train_data[batch_loc]\n",
    "    return np.reshape(train_bat_im,[size, 28, 28, 1])\n",
    "\n",
    "def get_masked(data, mask):\n",
    "    d_complex = tf.reshape(tf.cast(data, tf.complex64),\n",
    "                           [data.shape[0], 28, 28])\n",
    "    mask_complex = tf.cast(mask, tf.complex64)\n",
    "    d_kspace = tf.fft2d(d_complex)*mask_complex\n",
    "    d_masked_complex = tf.ifft2d(d_kspace)\n",
    "    d_masked_real = tf.reshape(tf.real(d_masked_complex), \n",
    "                               [d_masked_complex.get_shape()[0], 28, 28, 1])\n",
    "    d_masked_imag = tf.reshape(tf.imag(d_masked_complex), \n",
    "                               [d_masked_complex.get_shape()[0], 28, 28, 1])\n",
    "    d_masked = tf.concat([d_masked_real, d_masked_imag], axis = 3)\n",
    "    with tf.Session() as sess:\n",
    "        masked = sess.run(d_masked)\n",
    "    return masked"
   ]
  },
  {
   "cell_type": "code",
   "execution_count": 7,
   "metadata": {},
   "outputs": [],
   "source": [
    "batch = get_batch()\n",
    "masked = get_masked(batch, mask)"
   ]
  },
  {
   "cell_type": "code",
   "execution_count": 8,
   "metadata": {},
   "outputs": [],
   "source": [
    "m1 = tf.cast(masked[1][:][:][:], tf.complex64)\n",
    "re = m1[:,:,0]+1j*m1[:,:,1]\n",
    "r = tf.abs(re)\n",
    "r = tf.reshape(r, [28, 28])"
   ]
  },
  {
   "cell_type": "code",
   "execution_count": 9,
   "metadata": {},
   "outputs": [],
   "source": [
    "with tf.Session() as sess:\n",
    "    o1 = sess.run(r)"
   ]
  },
  {
   "cell_type": "code",
   "execution_count": 10,
   "metadata": {},
   "outputs": [
    {
     "data": {
      "text/plain": [
       "<matplotlib.image.AxesImage at 0x7f16d51d5208>"
      ]
     },
     "execution_count": 10,
     "metadata": {},
     "output_type": "execute_result"
    },
    {
     "data": {
      "image/png": "[encoded data removed]",
      "text/plain": [
       "<Figure size 432x288 with 1 Axes>"
      ]
     },
     "metadata": {
      "needs_background": "light"
     },
     "output_type": "display_data"
    }
   ],
   "source": [
    "plt.imshow(o1, cmap = \"gray\")"
   ]
  },
  {
   "cell_type": "code",
   "execution_count": 11,
   "metadata": {},
   "outputs": [
    {
     "data": {
      "text/plain": [
       "<matplotlib.image.AxesImage at 0x7f16d51b56d8>"
      ]
     },
     "execution_count": 11,
     "metadata": {},
     "output_type": "execute_result"
    },
    {
     "data": {
      "image/png": "[encoded data removed]",
      "text/plain": [
       "<Figure size 432x288 with 1 Axes>"
      ]
     },
     "metadata": {
      "needs_background": "light"
     },
     "output_type": "display_data"
    }
   ],
   "source": [
    "r1 = np.reshape(batch[1,:,:,:], [28, 28])\n",
    "plt.imshow(r1, cmap = \"gray\")"
   ]
  },
  {
   "cell_type": "markdown",
   "metadata": {},
   "source": [
    "preparing model structure"
   ]
  },
  {
   "cell_type": "code",
   "execution_count": 12,
   "metadata": {},
   "outputs": [],
   "source": [
    "batchsize = 100 # change it along with test_model.py\n",
    "model_input_masked = tf.placeholder(tf.float32, [batchsize, 28, 28, 2], \n",
    "                                    \"masked\")\n",
    "model_input_gtrue = tf.placeholder(tf.float32, [batchsize, 28, 28, 1], \n",
    "                                   \"ground_truth\")\n"
   ]
  },
  {
   "cell_type": "code",
   "execution_count": 13,
   "metadata": {},
   "outputs": [
    {
     "name": "stdout",
     "output_type": "stream",
     "text": [
      "use resnet without pooling: [64, 64, 64]\n",
      "using Fourier, input dim (100, 28, 28, 2), output dim (100, 28, 28)\n",
      "using Fourier, input dim (100, 28, 28, 2), output dim (100, 28, 28)\n",
      "use resnet without pooling: [64, 64, 64]\n",
      "using Fourier, input dim (100, 28, 28, 2), output dim (100, 28, 28)\n",
      "using Fourier, input dim (100, 28, 28, 2), output dim (100, 28, 28)\n",
      "use resnet without pooling: [64, 64, 64]\n",
      "using Fourier, input dim (100, 28, 28, 2), output dim (100, 28, 28)\n",
      "using Fourier, input dim (100, 28, 28, 2), output dim (100, 28, 28)\n",
      "use resnet without pooling: [64, 64, 64]\n",
      "using Fourier, input dim (100, 28, 28, 2), output dim (100, 28, 28)\n",
      "using Fourier, input dim (100, 28, 28, 2), output dim (100, 28, 28)\n",
      "use resnet without pooling: [64, 64, 64]\n",
      "using Fourier, input dim (100, 28, 28, 2), output dim (100, 28, 28)\n",
      "using Fourier, input dim (100, 28, 28, 2), output dim (100, 28, 28)\n",
      "use resnet without pooling: [64, 64, 64]\n",
      "using Fourier, input dim (100, 28, 28, 2), output dim (100, 28, 28)\n",
      "using Fourier, input dim (100, 28, 28, 2), output dim (100, 28, 28)\n",
      "use resnet without pooling: [64, 64, 64]\n",
      "using Fourier, input dim (100, 28, 28, 2), output dim (100, 28, 28)\n",
      "using Fourier, input dim (100, 28, 28, 2), output dim (100, 28, 28)\n",
      "use resnet without pooling: [64, 64, 64]\n",
      "using Fourier, input dim (100, 28, 28, 2), output dim (100, 28, 28)\n",
      "using Fourier, input dim (100, 28, 28, 2), output dim (100, 28, 28)\n",
      "use resnet without pooling: [64, 64, 64]\n",
      "using Fourier, input dim (100, 28, 28, 2), output dim (100, 28, 28)\n",
      "using Fourier, input dim (100, 28, 28, 2), output dim (100, 28, 28)\n",
      "use resnet without pooling: [64, 64, 64]\n",
      "using Fourier, input dim (100, 28, 28, 2), output dim (100, 28, 28)\n",
      "using Fourier, input dim (100, 28, 28, 2), output dim (100, 28, 28)\n",
      "use resnet without pooling: [64, 64, 64]\n",
      "using Fourier, input dim (100, 28, 28, 2), output dim (100, 28, 28)\n",
      "using Fourier, input dim (100, 28, 28, 2), output dim (100, 28, 28)\n",
      "use resnet without pooling: [64, 64, 64]\n",
      "using Fourier, input dim (100, 28, 28, 2), output dim (100, 28, 28)\n",
      "using Fourier, input dim (100, 28, 28, 2), output dim (100, 28, 28)\n",
      "use resnet without pooling: [64, 64, 64]\n",
      "using Fourier, input dim (100, 28, 28, 2), output dim (100, 28, 28)\n",
      "using Fourier, input dim (100, 28, 28, 2), output dim (100, 28, 28)\n",
      "use resnet without pooling: [64, 64, 64]\n",
      "using Fourier, input dim (100, 28, 28, 2), output dim (100, 28, 28)\n",
      "using Fourier, input dim (100, 28, 28, 2), output dim (100, 28, 28)\n",
      "use resnet without pooling: [64, 64, 64]\n",
      "using Fourier, input dim (100, 28, 28, 2), output dim (100, 28, 28)\n",
      "using Fourier, input dim (100, 28, 28, 2), output dim (100, 28, 28)\n",
      "using Fourier, input dim (100, 28, 28), output dim (100, 28, 28)\n",
      "using Fourier, input dim (100, 28, 28, 2), output dim (100, 28, 28)\n",
      "WARNING:tensorflow:From /home/charlieniu21/code/GANCS/test_model.py:917: calling reduce_mean (from tensorflow.python.ops.math_ops) with keep_dims is deprecated and will be removed in a future version.\n",
      "Instructions for updating:\n",
      "keep_dims is deprecated, use keepdims instead\n"
     ]
    }
   ],
   "source": [
    "sess = tf.Session()\n",
    "\n",
    "\n",
    "gene_output, gene_output_complex, gene_var_list, gene_layers, disc_real_output, disc_fake_output, disc_var_list, disc_layers = tm.create_model(sess, model_input_masked, model_input_gtrue, mask)\n",
    "    \n",
    "    \n",
    "gene_loss, gene_dc_loss, gene_fool_loss, list_gene_lose, gene_mse_factor = tm.create_generator_loss(disc_fake_output, gene_output, gene_output_complex, model_input_masked, model_input_gtrue, mask)\n",
    "    \n",
    "    \n",
    "disc_loss = tm.create_discriminator_loss(disc_real_output, disc_fake_output)\n",
    "    \n",
    "global_step, learning_rate, gene_minimize, disc_minimize = tm.create_optimizers(gene_loss, gene_var_list,disc_loss, disc_var_list)\n",
    "    \n",
    "    "
   ]
  },
  {
   "cell_type": "code",
   "execution_count": 19,
   "metadata": {},
   "outputs": [],
   "source": [
    "import time\n",
    "\n",
    "def train_process(epochs = 20, batch_size = 100):\n",
    "    gene_train_log = []\n",
    "    disc_train_log = []\n",
    "    train_time = 0\n",
    "    while train_time<epochs:\n",
    "        start_time = time.time()\n",
    "        batch_true = get_batch(batch_size)\n",
    "        batch_masked = get_masked(batch_true, mask)\n",
    "        g_los, d_los = sess.run([gene_loss, disc_loss],feed_dict = {model_input_masked:batch_masked, model_input_gtrue:batch_true, learning_rate: 0.0001})\n",
    "        #print('done with loss')\n",
    "        gene_train_log.append(g_los)\n",
    "        disc_train_log.append(d_los)\n",
    "        sess.run([gene_minimize,disc_minimize],feed_dict = {model_input_masked:batch_masked, model_input_gtrue:batch_true, learning_rate: 0.0001})\n",
    "        print(\"epoch: \"+str(train_time)+\", g_loss: \"+str(g_los)+\", d_loss: \"+str(d_los)+\" time_spent:\"+str(time.time()-start_time)+\"s\")\n",
    "        train_time += 1\n",
    "    return (gene_train_log, disc_train_log)"
   ]
  },
  {
   "cell_type": "code",
   "execution_count": 15,
   "metadata": {},
   "outputs": [],
   "source": [
    "init = tf.global_variables_initializer()\n",
    "#writer = tf.summary.FileWriter(\"logs/\", sess.graph)\n",
    "sess.run(init)"
   ]
  },
  {
   "cell_type": "code",
   "execution_count": null,
   "metadata": {},
   "outputs": [
    {
     "name": "stdout",
     "output_type": "stream",
     "text": [
      "epoch: 0, g_loss: 306.22983, d_loss: 0.13706897 time_spent:19.933308601379395s\n",
      "epoch: 1, g_loss: 276.4121, d_loss: 0.122803584 time_spent:19.932124853134155s\n",
      "epoch: 2, g_loss: 236.91338, d_loss: 0.12603393 time_spent:19.919498682022095s\n",
      "epoch: 3, g_loss: 170.84264, d_loss: 0.08486363 time_spent:19.861854314804077s\n",
      "epoch: 4, g_loss: 130.44223, d_loss: 0.09926523 time_spent:19.909991025924683s\n",
      "epoch: 5, g_loss: 95.396645, d_loss: 0.09773387 time_spent:19.790709972381592s\n"
     ]
    }
   ],
   "source": [
    "g_log, d_log = train_process(epochs = 500)"
   ]
  },
  {
   "cell_type": "code",
   "execution_count": null,
   "metadata": {},
   "outputs": [],
   "source": []
  },
  {
   "cell_type": "code",
   "execution_count": null,
   "metadata": {},
   "outputs": [],
   "source": []
  },
  {
   "cell_type": "code",
   "execution_count": null,
   "metadata": {},
   "outputs": [],
   "source": []
  },
  {
   "cell_type": "code",
   "execution_count": null,
   "metadata": {},
   "outputs": [],
   "source": []
  }
 ],
 "metadata": {
  "kernelspec": {
   "display_name": "Python 3",
   "language": "python",
   "name": "python3"
  },
  "language_info": {
   "codemirror_mode": {
    "name": "ipython",
    "version": 3
   },
   "file_extension": ".py",
   "mimetype": "text/x-python",
   "name": "python",
   "nbconvert_exporter": "python",
   "pygments_lexer": "ipython3",
   "version": "3.6.8"
  }
 },
 "nbformat": 4,
 "nbformat_minor": 2
}
